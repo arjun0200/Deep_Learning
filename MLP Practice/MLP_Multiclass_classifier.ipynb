{
  "nbformat": 4,
  "nbformat_minor": 0,
  "metadata": {
    "colab": {
      "provenance": []
    },
    "kernelspec": {
      "name": "python3",
      "display_name": "Python 3"
    },
    "language_info": {
      "name": "python"
    }
  },
  "cells": [
    {
      "cell_type": "markdown",
      "source": [
        "Multi Layer Perceptron for IRIS Flower Classification - Solving the Multi-class Classification Problem\n",
        "\n",
        "\n",
        "Using Keras to Build ANN - MLP"
      ],
      "metadata": {
        "id": "UzIV7kCVxRWK"
      }
    },
    {
      "cell_type": "code",
      "execution_count": 47,
      "metadata": {
        "id": "wGK0skvvxO1N"
      },
      "outputs": [],
      "source": [
        "from sklearn import datasets\n",
        "import numpy as np\n",
        "import pandas as pd"
      ]
    },
    {
      "cell_type": "code",
      "source": [
        "# import some data to play with\n",
        "iris = datasets.load_iris()"
      ],
      "metadata": {
        "id": "83GwQnnUxbyb"
      },
      "execution_count": 17,
      "outputs": []
    },
    {
      "cell_type": "code",
      "source": [
        "iris.feature_names"
      ],
      "metadata": {
        "colab": {
          "base_uri": "https://localhost:8080/"
        },
        "id": "TcsTz6bgxddU",
        "outputId": "3f092a7e-4909-457b-c0ad-e2cb757ecfe5"
      },
      "execution_count": 18,
      "outputs": [
        {
          "output_type": "execute_result",
          "data": {
            "text/plain": [
              "['sepal length (cm)',\n",
              " 'sepal width (cm)',\n",
              " 'petal length (cm)',\n",
              " 'petal width (cm)']"
            ]
          },
          "metadata": {},
          "execution_count": 18
        }
      ]
    },
    {
      "cell_type": "code",
      "source": [
        "iris.target_names"
      ],
      "metadata": {
        "colab": {
          "base_uri": "https://localhost:8080/"
        },
        "id": "mEwCVfLuxlTe",
        "outputId": "de9367c3-1fbf-4874-bdc3-c53e7ece507f"
      },
      "execution_count": 19,
      "outputs": [
        {
          "output_type": "execute_result",
          "data": {
            "text/plain": [
              "array(['setosa', 'versicolor', 'virginica'], dtype='<U10')"
            ]
          },
          "metadata": {},
          "execution_count": 19
        }
      ]
    },
    {
      "cell_type": "markdown",
      "source": [
        "Dataset - Features and Target Labels"
      ],
      "metadata": {
        "id": "LZB5hDMXxqCu"
      }
    },
    {
      "cell_type": "code",
      "source": [
        "X = iris.data\n",
        "y = iris.target"
      ],
      "metadata": {
        "id": "j-b-qgAHxoOw"
      },
      "execution_count": 20,
      "outputs": []
    },
    {
      "cell_type": "code",
      "source": [
        "X.shape"
      ],
      "metadata": {
        "colab": {
          "base_uri": "https://localhost:8080/"
        },
        "id": "fAzuLodSxv51",
        "outputId": "980392a0-87bc-4d5a-f14e-0fc471c6f1bd"
      },
      "execution_count": 21,
      "outputs": [
        {
          "output_type": "execute_result",
          "data": {
            "text/plain": [
              "(150, 4)"
            ]
          },
          "metadata": {},
          "execution_count": 21
        }
      ]
    },
    {
      "cell_type": "code",
      "source": [
        "y.shape"
      ],
      "metadata": {
        "colab": {
          "base_uri": "https://localhost:8080/"
        },
        "id": "4ql58F6-xxZU",
        "outputId": "2af37b6d-4715-4dbd-ccf7-546cf2566782"
      },
      "execution_count": 22,
      "outputs": [
        {
          "output_type": "execute_result",
          "data": {
            "text/plain": [
              "(150,)"
            ]
          },
          "metadata": {},
          "execution_count": 22
        }
      ]
    },
    {
      "cell_type": "markdown",
      "source": [
        "Multi-class Classifier - 3 class Labels"
      ],
      "metadata": {
        "id": "x_a-30RzyGvS"
      }
    },
    {
      "cell_type": "code",
      "source": [
        "X= iris.data\n",
        "y = iris.target # Multi-class Classifier"
      ],
      "metadata": {
        "id": "aSGxLVqXxyr7"
      },
      "execution_count": 23,
      "outputs": []
    },
    {
      "cell_type": "code",
      "source": [
        "y = y.reshape(-1, 1)\n",
        "\n",
        "print(y.shape)\n",
        "print(y)"
      ],
      "metadata": {
        "colab": {
          "base_uri": "https://localhost:8080/"
        },
        "id": "XysR79wOyJCf",
        "outputId": "840e53dc-84dd-470e-a79a-7434053fe4b3"
      },
      "execution_count": 24,
      "outputs": [
        {
          "output_type": "stream",
          "name": "stdout",
          "text": [
            "(150, 1)\n",
            "[[0]\n",
            " [0]\n",
            " [0]\n",
            " [0]\n",
            " [0]\n",
            " [0]\n",
            " [0]\n",
            " [0]\n",
            " [0]\n",
            " [0]\n",
            " [0]\n",
            " [0]\n",
            " [0]\n",
            " [0]\n",
            " [0]\n",
            " [0]\n",
            " [0]\n",
            " [0]\n",
            " [0]\n",
            " [0]\n",
            " [0]\n",
            " [0]\n",
            " [0]\n",
            " [0]\n",
            " [0]\n",
            " [0]\n",
            " [0]\n",
            " [0]\n",
            " [0]\n",
            " [0]\n",
            " [0]\n",
            " [0]\n",
            " [0]\n",
            " [0]\n",
            " [0]\n",
            " [0]\n",
            " [0]\n",
            " [0]\n",
            " [0]\n",
            " [0]\n",
            " [0]\n",
            " [0]\n",
            " [0]\n",
            " [0]\n",
            " [0]\n",
            " [0]\n",
            " [0]\n",
            " [0]\n",
            " [0]\n",
            " [0]\n",
            " [1]\n",
            " [1]\n",
            " [1]\n",
            " [1]\n",
            " [1]\n",
            " [1]\n",
            " [1]\n",
            " [1]\n",
            " [1]\n",
            " [1]\n",
            " [1]\n",
            " [1]\n",
            " [1]\n",
            " [1]\n",
            " [1]\n",
            " [1]\n",
            " [1]\n",
            " [1]\n",
            " [1]\n",
            " [1]\n",
            " [1]\n",
            " [1]\n",
            " [1]\n",
            " [1]\n",
            " [1]\n",
            " [1]\n",
            " [1]\n",
            " [1]\n",
            " [1]\n",
            " [1]\n",
            " [1]\n",
            " [1]\n",
            " [1]\n",
            " [1]\n",
            " [1]\n",
            " [1]\n",
            " [1]\n",
            " [1]\n",
            " [1]\n",
            " [1]\n",
            " [1]\n",
            " [1]\n",
            " [1]\n",
            " [1]\n",
            " [1]\n",
            " [1]\n",
            " [1]\n",
            " [1]\n",
            " [1]\n",
            " [1]\n",
            " [2]\n",
            " [2]\n",
            " [2]\n",
            " [2]\n",
            " [2]\n",
            " [2]\n",
            " [2]\n",
            " [2]\n",
            " [2]\n",
            " [2]\n",
            " [2]\n",
            " [2]\n",
            " [2]\n",
            " [2]\n",
            " [2]\n",
            " [2]\n",
            " [2]\n",
            " [2]\n",
            " [2]\n",
            " [2]\n",
            " [2]\n",
            " [2]\n",
            " [2]\n",
            " [2]\n",
            " [2]\n",
            " [2]\n",
            " [2]\n",
            " [2]\n",
            " [2]\n",
            " [2]\n",
            " [2]\n",
            " [2]\n",
            " [2]\n",
            " [2]\n",
            " [2]\n",
            " [2]\n",
            " [2]\n",
            " [2]\n",
            " [2]\n",
            " [2]\n",
            " [2]\n",
            " [2]\n",
            " [2]\n",
            " [2]\n",
            " [2]\n",
            " [2]\n",
            " [2]\n",
            " [2]\n",
            " [2]\n",
            " [2]]\n"
          ]
        }
      ]
    },
    {
      "cell_type": "code",
      "source": [
        "from sklearn.preprocessing import OneHotEncoder\n",
        "on = OneHotEncoder()\n",
        "y_hot = on.fit_transform(y).toarray()\n",
        "y_hot"
      ],
      "metadata": {
        "colab": {
          "base_uri": "https://localhost:8080/"
        },
        "id": "1pJv95JsyNJ2",
        "outputId": "82b07931-8f8e-4bc9-d2ce-c9f35be371c6"
      },
      "execution_count": 25,
      "outputs": [
        {
          "output_type": "execute_result",
          "data": {
            "text/plain": [
              "array([[1., 0., 0.],\n",
              "       [1., 0., 0.],\n",
              "       [1., 0., 0.],\n",
              "       [1., 0., 0.],\n",
              "       [1., 0., 0.],\n",
              "       [1., 0., 0.],\n",
              "       [1., 0., 0.],\n",
              "       [1., 0., 0.],\n",
              "       [1., 0., 0.],\n",
              "       [1., 0., 0.],\n",
              "       [1., 0., 0.],\n",
              "       [1., 0., 0.],\n",
              "       [1., 0., 0.],\n",
              "       [1., 0., 0.],\n",
              "       [1., 0., 0.],\n",
              "       [1., 0., 0.],\n",
              "       [1., 0., 0.],\n",
              "       [1., 0., 0.],\n",
              "       [1., 0., 0.],\n",
              "       [1., 0., 0.],\n",
              "       [1., 0., 0.],\n",
              "       [1., 0., 0.],\n",
              "       [1., 0., 0.],\n",
              "       [1., 0., 0.],\n",
              "       [1., 0., 0.],\n",
              "       [1., 0., 0.],\n",
              "       [1., 0., 0.],\n",
              "       [1., 0., 0.],\n",
              "       [1., 0., 0.],\n",
              "       [1., 0., 0.],\n",
              "       [1., 0., 0.],\n",
              "       [1., 0., 0.],\n",
              "       [1., 0., 0.],\n",
              "       [1., 0., 0.],\n",
              "       [1., 0., 0.],\n",
              "       [1., 0., 0.],\n",
              "       [1., 0., 0.],\n",
              "       [1., 0., 0.],\n",
              "       [1., 0., 0.],\n",
              "       [1., 0., 0.],\n",
              "       [1., 0., 0.],\n",
              "       [1., 0., 0.],\n",
              "       [1., 0., 0.],\n",
              "       [1., 0., 0.],\n",
              "       [1., 0., 0.],\n",
              "       [1., 0., 0.],\n",
              "       [1., 0., 0.],\n",
              "       [1., 0., 0.],\n",
              "       [1., 0., 0.],\n",
              "       [1., 0., 0.],\n",
              "       [0., 1., 0.],\n",
              "       [0., 1., 0.],\n",
              "       [0., 1., 0.],\n",
              "       [0., 1., 0.],\n",
              "       [0., 1., 0.],\n",
              "       [0., 1., 0.],\n",
              "       [0., 1., 0.],\n",
              "       [0., 1., 0.],\n",
              "       [0., 1., 0.],\n",
              "       [0., 1., 0.],\n",
              "       [0., 1., 0.],\n",
              "       [0., 1., 0.],\n",
              "       [0., 1., 0.],\n",
              "       [0., 1., 0.],\n",
              "       [0., 1., 0.],\n",
              "       [0., 1., 0.],\n",
              "       [0., 1., 0.],\n",
              "       [0., 1., 0.],\n",
              "       [0., 1., 0.],\n",
              "       [0., 1., 0.],\n",
              "       [0., 1., 0.],\n",
              "       [0., 1., 0.],\n",
              "       [0., 1., 0.],\n",
              "       [0., 1., 0.],\n",
              "       [0., 1., 0.],\n",
              "       [0., 1., 0.],\n",
              "       [0., 1., 0.],\n",
              "       [0., 1., 0.],\n",
              "       [0., 1., 0.],\n",
              "       [0., 1., 0.],\n",
              "       [0., 1., 0.],\n",
              "       [0., 1., 0.],\n",
              "       [0., 1., 0.],\n",
              "       [0., 1., 0.],\n",
              "       [0., 1., 0.],\n",
              "       [0., 1., 0.],\n",
              "       [0., 1., 0.],\n",
              "       [0., 1., 0.],\n",
              "       [0., 1., 0.],\n",
              "       [0., 1., 0.],\n",
              "       [0., 1., 0.],\n",
              "       [0., 1., 0.],\n",
              "       [0., 1., 0.],\n",
              "       [0., 1., 0.],\n",
              "       [0., 1., 0.],\n",
              "       [0., 1., 0.],\n",
              "       [0., 1., 0.],\n",
              "       [0., 1., 0.],\n",
              "       [0., 1., 0.],\n",
              "       [0., 1., 0.],\n",
              "       [0., 0., 1.],\n",
              "       [0., 0., 1.],\n",
              "       [0., 0., 1.],\n",
              "       [0., 0., 1.],\n",
              "       [0., 0., 1.],\n",
              "       [0., 0., 1.],\n",
              "       [0., 0., 1.],\n",
              "       [0., 0., 1.],\n",
              "       [0., 0., 1.],\n",
              "       [0., 0., 1.],\n",
              "       [0., 0., 1.],\n",
              "       [0., 0., 1.],\n",
              "       [0., 0., 1.],\n",
              "       [0., 0., 1.],\n",
              "       [0., 0., 1.],\n",
              "       [0., 0., 1.],\n",
              "       [0., 0., 1.],\n",
              "       [0., 0., 1.],\n",
              "       [0., 0., 1.],\n",
              "       [0., 0., 1.],\n",
              "       [0., 0., 1.],\n",
              "       [0., 0., 1.],\n",
              "       [0., 0., 1.],\n",
              "       [0., 0., 1.],\n",
              "       [0., 0., 1.],\n",
              "       [0., 0., 1.],\n",
              "       [0., 0., 1.],\n",
              "       [0., 0., 1.],\n",
              "       [0., 0., 1.],\n",
              "       [0., 0., 1.],\n",
              "       [0., 0., 1.],\n",
              "       [0., 0., 1.],\n",
              "       [0., 0., 1.],\n",
              "       [0., 0., 1.],\n",
              "       [0., 0., 1.],\n",
              "       [0., 0., 1.],\n",
              "       [0., 0., 1.],\n",
              "       [0., 0., 1.],\n",
              "       [0., 0., 1.],\n",
              "       [0., 0., 1.],\n",
              "       [0., 0., 1.],\n",
              "       [0., 0., 1.],\n",
              "       [0., 0., 1.],\n",
              "       [0., 0., 1.],\n",
              "       [0., 0., 1.],\n",
              "       [0., 0., 1.],\n",
              "       [0., 0., 1.],\n",
              "       [0., 0., 1.],\n",
              "       [0., 0., 1.],\n",
              "       [0., 0., 1.]])"
            ]
          },
          "metadata": {},
          "execution_count": 25
        }
      ]
    },
    {
      "cell_type": "markdown",
      "source": [
        "Splitting dataset into Training and Testing set"
      ],
      "metadata": {
        "id": "we8FV30eypCv"
      }
    },
    {
      "cell_type": "code",
      "source": [
        "from sklearn.model_selection import train_test_split"
      ],
      "metadata": {
        "id": "B9RTq6rRyj9L"
      },
      "execution_count": 26,
      "outputs": []
    },
    {
      "cell_type": "code",
      "source": [
        "X_train, X_test, y_train, y_test = train_test_split(X, y_hot, test_size=0.3, shuffle=True, stratify=y, random_state=101)"
      ],
      "metadata": {
        "id": "ygts22I2yvgi"
      },
      "execution_count": 27,
      "outputs": []
    },
    {
      "cell_type": "code",
      "source": [
        "print('\\n Shape of Training data : ', X_train.shape)\n",
        "print('\\n Shape of Test data : ', X_test.shape)"
      ],
      "metadata": {
        "colab": {
          "base_uri": "https://localhost:8080/"
        },
        "id": "pzNWpFGOyxP7",
        "outputId": "8c88bf6e-a853-4503-81e9-a31c57b208cf"
      },
      "execution_count": 28,
      "outputs": [
        {
          "output_type": "stream",
          "name": "stdout",
          "text": [
            "\n",
            " Shape of Training data :  (105, 4)\n",
            "\n",
            " Shape of Test data :  (45, 4)\n"
          ]
        }
      ]
    },
    {
      "cell_type": "markdown",
      "source": [
        "Standardize Data"
      ],
      "metadata": {
        "id": "C7F5poAxy3fD"
      }
    },
    {
      "cell_type": "code",
      "source": [
        "from sklearn.preprocessing import StandardScaler\n",
        "\n",
        "sc = StandardScaler()\n",
        "sc.fit(X_train)\n",
        "X_train_std = sc.transform(X_train)\n",
        "X_test_std = sc.transform(X_test)"
      ],
      "metadata": {
        "id": "3IK9RMDwyzUn"
      },
      "execution_count": 29,
      "outputs": []
    },
    {
      "cell_type": "markdown",
      "source": [
        "Building the Multi Layer Perceptron Model"
      ],
      "metadata": {
        "id": "-5kNlO9n3Vjx"
      }
    },
    {
      "cell_type": "code",
      "source": [
        "from keras.models import Sequential, Model\n",
        "from keras.layers import Dense"
      ],
      "metadata": {
        "id": "zEpMQD3azMSl"
      },
      "execution_count": 30,
      "outputs": []
    },
    {
      "cell_type": "code",
      "source": [
        "## MODEL \n",
        "# Build a simple MLP model\n",
        "model = Sequential()\n",
        "model.add(Dense(5, input_dim=4, activation='sigmoid')) # first hidden layer with 5 neurons\n",
        "model.add(Dense(3, activation='softmax')) # last layer with 3 output neurons - multi-class classification\n",
        "\n",
        "# Compile MODEL \n",
        "model.compile(optimizer='adam', loss='categorical_crossentropy', metrics='accuracy')"
      ],
      "metadata": {
        "id": "FNwknqvQ-kcX"
      },
      "execution_count": 31,
      "outputs": []
    },
    {
      "cell_type": "code",
      "source": [
        "model.summary()"
      ],
      "metadata": {
        "colab": {
          "base_uri": "https://localhost:8080/"
        },
        "id": "lSFX6xpP-pGB",
        "outputId": "44448698-8b57-4ebe-d275-c6fa982f3939"
      },
      "execution_count": 32,
      "outputs": [
        {
          "output_type": "stream",
          "name": "stdout",
          "text": [
            "Model: \"sequential\"\n",
            "_________________________________________________________________\n",
            " Layer (type)                Output Shape              Param #   \n",
            "=================================================================\n",
            " dense (Dense)               (None, 5)                 25        \n",
            "                                                                 \n",
            " dense_1 (Dense)             (None, 3)                 18        \n",
            "                                                                 \n",
            "=================================================================\n",
            "Total params: 43\n",
            "Trainable params: 43\n",
            "Non-trainable params: 0\n",
            "_________________________________________________________________\n"
          ]
        }
      ]
    },
    {
      "cell_type": "code",
      "source": [
        "from keras.utils import plot_model"
      ],
      "metadata": {
        "id": "bWQ5Hz76-rHS"
      },
      "execution_count": 33,
      "outputs": []
    },
    {
      "cell_type": "code",
      "source": [
        "plot_model(model)"
      ],
      "metadata": {
        "colab": {
          "base_uri": "https://localhost:8080/",
          "height": 272
        },
        "id": "NOZhHAbh-tKb",
        "outputId": "067795bd-1b0a-4bf8-950b-32e489354464"
      },
      "execution_count": 34,
      "outputs": [
        {
          "output_type": "execute_result",
          "data": {
            "image/png": "[encoded data removed]",
            "text/plain": [
              "<IPython.core.display.Image object>"
            ]
          },
          "metadata": {},
          "execution_count": 34
        }
      ]
    },
    {
      "cell_type": "markdown",
      "source": [
        "Initial Weights and Biases\n",
        "Keras oficial documentation says....\n",
        "\n",
        "kernel_initializer=\"glorot_uniform\"\n",
        "\n",
        "bias_initializer=\"zeros\""
      ],
      "metadata": {
        "id": "FTPhhetY-wsl"
      }
    },
    {
      "cell_type": "code",
      "source": [
        "weights = model.get_weights()"
      ],
      "metadata": {
        "id": "0HwaCYRz-ump"
      },
      "execution_count": 35,
      "outputs": []
    },
    {
      "cell_type": "code",
      "source": [
        "weights"
      ],
      "metadata": {
        "colab": {
          "base_uri": "https://localhost:8080/"
        },
        "id": "mEMajqsU-yV7",
        "outputId": "ac2c64db-3254-445b-aa8c-c3680c3d1e32"
      },
      "execution_count": 36,
      "outputs": [
        {
          "output_type": "execute_result",
          "data": {
            "text/plain": [
              "[array([[ 0.6037588 ,  0.23639834, -0.7011309 ,  0.05424422,  0.0862208 ],\n",
              "        [ 0.35690272,  0.5324476 , -0.35203093,  0.22324789,  0.25954437],\n",
              "        [-0.4516499 , -0.53067654,  0.2376113 ,  0.54659045, -0.18834007],\n",
              "        [ 0.4236393 , -0.37450182, -0.2540999 ,  0.03898966,  0.67602575]],\n",
              "       dtype=float32),\n",
              " array([0., 0., 0., 0., 0.], dtype=float32),\n",
              " array([[ 0.14910764,  0.68146485, -0.7929804 ],\n",
              "        [-0.5410464 ,  0.16805023, -0.72653335],\n",
              "        [ 0.6588504 , -0.570498  ,  0.09457475],\n",
              "        [ 0.6121109 ,  0.6141612 , -0.33094043],\n",
              "        [-0.02461261,  0.00811636,  0.7188514 ]], dtype=float32),\n",
              " array([0., 0., 0.], dtype=float32)]"
            ]
          },
          "metadata": {},
          "execution_count": 36
        }
      ]
    },
    {
      "cell_type": "markdown",
      "source": [
        "Training the Model"
      ],
      "metadata": {
        "id": "FuJZcqhg-1WA"
      }
    },
    {
      "cell_type": "code",
      "source": [
        "history = model.fit(X_train_std, y_train, epochs=100, batch_size=16, validation_data=(X_test_std, y_test))"
      ],
      "metadata": {
        "colab": {
          "base_uri": "https://localhost:8080/"
        },
        "id": "-vOrYxUU-zw_",
        "outputId": "10f3f94e-e2b3-40a9-c207-eebfd3bab7de"
      },
      "execution_count": 38,
      "outputs": [
        {
          "output_type": "stream",
          "name": "stdout",
          "text": [
            "Epoch 1/100\n",
            "7/7 [==============================] - 0s 26ms/step - loss: 0.6334 - accuracy: 0.8381 - val_loss: 0.6275 - val_accuracy: 0.8444\n",
            "Epoch 2/100\n",
            "7/7 [==============================] - 0s 30ms/step - loss: 0.6301 - accuracy: 0.8381 - val_loss: 0.6243 - val_accuracy: 0.8444\n",
            "Epoch 3/100\n",
            "7/7 [==============================] - 0s 14ms/step - loss: 0.6269 - accuracy: 0.8381 - val_loss: 0.6212 - val_accuracy: 0.8444\n",
            "Epoch 4/100\n",
            "7/7 [==============================] - 0s 14ms/step - loss: 0.6237 - accuracy: 0.8381 - val_loss: 0.6181 - val_accuracy: 0.8444\n",
            "Epoch 5/100\n",
            "7/7 [==============================] - 0s 15ms/step - loss: 0.6207 - accuracy: 0.8381 - val_loss: 0.6150 - val_accuracy: 0.8444\n",
            "Epoch 6/100\n",
            "7/7 [==============================] - 0s 17ms/step - loss: 0.6176 - accuracy: 0.8381 - val_loss: 0.6120 - val_accuracy: 0.8444\n",
            "Epoch 7/100\n",
            "7/7 [==============================] - 0s 32ms/step - loss: 0.6145 - accuracy: 0.8381 - val_loss: 0.6090 - val_accuracy: 0.8444\n",
            "Epoch 8/100\n",
            "7/7 [==============================] - 0s 17ms/step - loss: 0.6115 - accuracy: 0.8381 - val_loss: 0.6060 - val_accuracy: 0.8444\n",
            "Epoch 9/100\n",
            "7/7 [==============================] - 0s 13ms/step - loss: 0.6084 - accuracy: 0.8476 - val_loss: 0.6030 - val_accuracy: 0.8444\n",
            "Epoch 10/100\n",
            "7/7 [==============================] - 0s 15ms/step - loss: 0.6055 - accuracy: 0.8571 - val_loss: 0.6001 - val_accuracy: 0.8444\n",
            "Epoch 11/100\n",
            "7/7 [==============================] - 0s 25ms/step - loss: 0.6027 - accuracy: 0.8762 - val_loss: 0.5972 - val_accuracy: 0.8667\n",
            "Epoch 12/100\n",
            "7/7 [==============================] - 0s 20ms/step - loss: 0.5996 - accuracy: 0.8762 - val_loss: 0.5943 - val_accuracy: 0.8667\n",
            "Epoch 13/100\n",
            "7/7 [==============================] - 0s 47ms/step - loss: 0.5966 - accuracy: 0.8762 - val_loss: 0.5914 - val_accuracy: 0.8667\n",
            "Epoch 14/100\n",
            "7/7 [==============================] - 0s 35ms/step - loss: 0.5938 - accuracy: 0.8762 - val_loss: 0.5886 - val_accuracy: 0.8667\n",
            "Epoch 15/100\n",
            "7/7 [==============================] - 0s 45ms/step - loss: 0.5909 - accuracy: 0.8857 - val_loss: 0.5858 - val_accuracy: 0.8667\n",
            "Epoch 16/100\n",
            "7/7 [==============================] - 0s 43ms/step - loss: 0.5881 - accuracy: 0.8857 - val_loss: 0.5830 - val_accuracy: 0.8667\n",
            "Epoch 17/100\n",
            "7/7 [==============================] - 0s 22ms/step - loss: 0.5853 - accuracy: 0.8857 - val_loss: 0.5802 - val_accuracy: 0.8667\n",
            "Epoch 18/100\n",
            "7/7 [==============================] - 0s 17ms/step - loss: 0.5825 - accuracy: 0.8857 - val_loss: 0.5775 - val_accuracy: 0.8667\n",
            "Epoch 19/100\n",
            "7/7 [==============================] - 0s 15ms/step - loss: 0.5798 - accuracy: 0.8857 - val_loss: 0.5747 - val_accuracy: 0.8667\n",
            "Epoch 20/100\n",
            "7/7 [==============================] - 0s 14ms/step - loss: 0.5771 - accuracy: 0.8857 - val_loss: 0.5720 - val_accuracy: 0.8667\n",
            "Epoch 21/100\n",
            "7/7 [==============================] - 0s 26ms/step - loss: 0.5743 - accuracy: 0.8857 - val_loss: 0.5694 - val_accuracy: 0.8667\n",
            "Epoch 22/100\n",
            "7/7 [==============================] - 0s 28ms/step - loss: 0.5717 - accuracy: 0.8857 - val_loss: 0.5667 - val_accuracy: 0.8667\n",
            "Epoch 23/100\n",
            "7/7 [==============================] - 0s 21ms/step - loss: 0.5689 - accuracy: 0.8857 - val_loss: 0.5640 - val_accuracy: 0.8667\n",
            "Epoch 24/100\n",
            "7/7 [==============================] - 0s 27ms/step - loss: 0.5662 - accuracy: 0.8857 - val_loss: 0.5614 - val_accuracy: 0.8667\n",
            "Epoch 25/100\n",
            "7/7 [==============================] - 0s 16ms/step - loss: 0.5636 - accuracy: 0.8857 - val_loss: 0.5588 - val_accuracy: 0.8667\n",
            "Epoch 26/100\n",
            "7/7 [==============================] - 0s 14ms/step - loss: 0.5611 - accuracy: 0.8857 - val_loss: 0.5562 - val_accuracy: 0.8667\n",
            "Epoch 27/100\n",
            "7/7 [==============================] - 0s 14ms/step - loss: 0.5585 - accuracy: 0.8857 - val_loss: 0.5537 - val_accuracy: 0.8667\n",
            "Epoch 28/100\n",
            "7/7 [==============================] - 0s 31ms/step - loss: 0.5559 - accuracy: 0.8857 - val_loss: 0.5512 - val_accuracy: 0.8667\n",
            "Epoch 29/100\n",
            "7/7 [==============================] - 0s 38ms/step - loss: 0.5534 - accuracy: 0.8857 - val_loss: 0.5487 - val_accuracy: 0.8667\n",
            "Epoch 30/100\n",
            "7/7 [==============================] - 0s 48ms/step - loss: 0.5508 - accuracy: 0.8857 - val_loss: 0.5462 - val_accuracy: 0.8667\n",
            "Epoch 31/100\n",
            "7/7 [==============================] - 0s 27ms/step - loss: 0.5483 - accuracy: 0.8857 - val_loss: 0.5437 - val_accuracy: 0.8667\n",
            "Epoch 32/100\n",
            "7/7 [==============================] - 0s 29ms/step - loss: 0.5459 - accuracy: 0.8857 - val_loss: 0.5413 - val_accuracy: 0.8667\n",
            "Epoch 33/100\n",
            "7/7 [==============================] - 0s 41ms/step - loss: 0.5434 - accuracy: 0.8857 - val_loss: 0.5389 - val_accuracy: 0.8889\n",
            "Epoch 34/100\n",
            "7/7 [==============================] - 0s 42ms/step - loss: 0.5410 - accuracy: 0.8952 - val_loss: 0.5365 - val_accuracy: 0.9111\n",
            "Epoch 35/100\n",
            "7/7 [==============================] - 0s 30ms/step - loss: 0.5386 - accuracy: 0.8952 - val_loss: 0.5341 - val_accuracy: 0.9111\n",
            "Epoch 36/100\n",
            "7/7 [==============================] - 0s 36ms/step - loss: 0.5361 - accuracy: 0.8952 - val_loss: 0.5317 - val_accuracy: 0.9111\n",
            "Epoch 37/100\n",
            "7/7 [==============================] - 0s 41ms/step - loss: 0.5337 - accuracy: 0.8952 - val_loss: 0.5293 - val_accuracy: 0.9111\n",
            "Epoch 38/100\n",
            "7/7 [==============================] - 0s 32ms/step - loss: 0.5313 - accuracy: 0.8952 - val_loss: 0.5270 - val_accuracy: 0.9111\n",
            "Epoch 39/100\n",
            "7/7 [==============================] - 0s 37ms/step - loss: 0.5290 - accuracy: 0.8952 - val_loss: 0.5247 - val_accuracy: 0.9111\n",
            "Epoch 40/100\n",
            "7/7 [==============================] - 0s 40ms/step - loss: 0.5267 - accuracy: 0.8952 - val_loss: 0.5224 - val_accuracy: 0.9111\n",
            "Epoch 41/100\n",
            "7/7 [==============================] - 0s 18ms/step - loss: 0.5243 - accuracy: 0.9048 - val_loss: 0.5201 - val_accuracy: 0.9111\n",
            "Epoch 42/100\n",
            "7/7 [==============================] - 0s 21ms/step - loss: 0.5221 - accuracy: 0.9048 - val_loss: 0.5178 - val_accuracy: 0.9111\n",
            "Epoch 43/100\n",
            "7/7 [==============================] - 0s 14ms/step - loss: 0.5198 - accuracy: 0.9048 - val_loss: 0.5156 - val_accuracy: 0.9111\n",
            "Epoch 44/100\n",
            "7/7 [==============================] - 0s 25ms/step - loss: 0.5175 - accuracy: 0.9048 - val_loss: 0.5134 - val_accuracy: 0.9111\n",
            "Epoch 45/100\n",
            "7/7 [==============================] - 0s 11ms/step - loss: 0.5153 - accuracy: 0.9048 - val_loss: 0.5112 - val_accuracy: 0.9111\n",
            "Epoch 46/100\n",
            "7/7 [==============================] - 0s 10ms/step - loss: 0.5131 - accuracy: 0.9048 - val_loss: 0.5090 - val_accuracy: 0.9111\n",
            "Epoch 47/100\n",
            "7/7 [==============================] - 0s 9ms/step - loss: 0.5109 - accuracy: 0.9048 - val_loss: 0.5068 - val_accuracy: 0.9111\n",
            "Epoch 48/100\n",
            "7/7 [==============================] - 0s 8ms/step - loss: 0.5086 - accuracy: 0.9048 - val_loss: 0.5047 - val_accuracy: 0.9111\n",
            "Epoch 49/100\n",
            "7/7 [==============================] - 0s 11ms/step - loss: 0.5065 - accuracy: 0.9048 - val_loss: 0.5025 - val_accuracy: 0.9111\n",
            "Epoch 50/100\n",
            "7/7 [==============================] - 0s 9ms/step - loss: 0.5043 - accuracy: 0.9048 - val_loss: 0.5004 - val_accuracy: 0.9111\n",
            "Epoch 51/100\n",
            "7/7 [==============================] - 0s 12ms/step - loss: 0.5022 - accuracy: 0.9048 - val_loss: 0.4983 - val_accuracy: 0.9111\n",
            "Epoch 52/100\n",
            "7/7 [==============================] - 0s 14ms/step - loss: 0.4999 - accuracy: 0.9048 - val_loss: 0.4962 - val_accuracy: 0.9111\n",
            "Epoch 53/100\n",
            "7/7 [==============================] - 0s 23ms/step - loss: 0.4979 - accuracy: 0.9048 - val_loss: 0.4941 - val_accuracy: 0.9111\n",
            "Epoch 54/100\n",
            "7/7 [==============================] - 0s 31ms/step - loss: 0.4957 - accuracy: 0.9048 - val_loss: 0.4920 - val_accuracy: 0.9111\n",
            "Epoch 55/100\n",
            "7/7 [==============================] - 0s 10ms/step - loss: 0.4936 - accuracy: 0.9048 - val_loss: 0.4899 - val_accuracy: 0.9111\n",
            "Epoch 56/100\n",
            "7/7 [==============================] - 0s 10ms/step - loss: 0.4916 - accuracy: 0.9048 - val_loss: 0.4879 - val_accuracy: 0.9111\n",
            "Epoch 57/100\n",
            "7/7 [==============================] - 0s 12ms/step - loss: 0.4894 - accuracy: 0.9048 - val_loss: 0.4859 - val_accuracy: 0.9111\n",
            "Epoch 58/100\n",
            "7/7 [==============================] - 0s 20ms/step - loss: 0.4874 - accuracy: 0.9048 - val_loss: 0.4838 - val_accuracy: 0.9111\n",
            "Epoch 59/100\n",
            "7/7 [==============================] - 0s 22ms/step - loss: 0.4853 - accuracy: 0.9143 - val_loss: 0.4818 - val_accuracy: 0.9111\n",
            "Epoch 60/100\n",
            "7/7 [==============================] - 0s 24ms/step - loss: 0.4832 - accuracy: 0.9143 - val_loss: 0.4798 - val_accuracy: 0.9111\n",
            "Epoch 61/100\n",
            "7/7 [==============================] - 0s 13ms/step - loss: 0.4811 - accuracy: 0.9238 - val_loss: 0.4779 - val_accuracy: 0.9111\n",
            "Epoch 62/100\n",
            "7/7 [==============================] - 0s 10ms/step - loss: 0.4792 - accuracy: 0.9238 - val_loss: 0.4759 - val_accuracy: 0.9111\n",
            "Epoch 63/100\n",
            "7/7 [==============================] - 0s 9ms/step - loss: 0.4771 - accuracy: 0.9238 - val_loss: 0.4739 - val_accuracy: 0.9111\n",
            "Epoch 64/100\n",
            "7/7 [==============================] - 0s 12ms/step - loss: 0.4751 - accuracy: 0.9238 - val_loss: 0.4720 - val_accuracy: 0.9111\n",
            "Epoch 65/100\n",
            "7/7 [==============================] - 0s 23ms/step - loss: 0.4731 - accuracy: 0.9238 - val_loss: 0.4700 - val_accuracy: 0.9111\n",
            "Epoch 66/100\n",
            "7/7 [==============================] - 0s 8ms/step - loss: 0.4711 - accuracy: 0.9238 - val_loss: 0.4681 - val_accuracy: 0.9111\n",
            "Epoch 67/100\n",
            "7/7 [==============================] - 0s 8ms/step - loss: 0.4691 - accuracy: 0.9238 - val_loss: 0.4662 - val_accuracy: 0.9111\n",
            "Epoch 68/100\n",
            "7/7 [==============================] - 0s 10ms/step - loss: 0.4671 - accuracy: 0.9238 - val_loss: 0.4643 - val_accuracy: 0.9111\n",
            "Epoch 69/100\n",
            "7/7 [==============================] - 0s 14ms/step - loss: 0.4652 - accuracy: 0.9238 - val_loss: 0.4625 - val_accuracy: 0.9111\n",
            "Epoch 70/100\n",
            "7/7 [==============================] - 0s 17ms/step - loss: 0.4633 - accuracy: 0.9143 - val_loss: 0.4606 - val_accuracy: 0.9111\n",
            "Epoch 71/100\n",
            "7/7 [==============================] - 0s 17ms/step - loss: 0.4614 - accuracy: 0.9238 - val_loss: 0.4587 - val_accuracy: 0.9111\n",
            "Epoch 72/100\n",
            "7/7 [==============================] - 0s 16ms/step - loss: 0.4594 - accuracy: 0.9238 - val_loss: 0.4569 - val_accuracy: 0.9111\n",
            "Epoch 73/100\n",
            "7/7 [==============================] - 0s 12ms/step - loss: 0.4576 - accuracy: 0.9238 - val_loss: 0.4551 - val_accuracy: 0.9111\n",
            "Epoch 74/100\n",
            "7/7 [==============================] - 0s 8ms/step - loss: 0.4557 - accuracy: 0.9238 - val_loss: 0.4532 - val_accuracy: 0.9111\n",
            "Epoch 75/100\n",
            "7/7 [==============================] - 0s 9ms/step - loss: 0.4538 - accuracy: 0.9238 - val_loss: 0.4514 - val_accuracy: 0.9111\n",
            "Epoch 76/100\n",
            "7/7 [==============================] - 0s 11ms/step - loss: 0.4520 - accuracy: 0.9238 - val_loss: 0.4496 - val_accuracy: 0.9111\n",
            "Epoch 77/100\n",
            "7/7 [==============================] - 0s 24ms/step - loss: 0.4500 - accuracy: 0.9238 - val_loss: 0.4478 - val_accuracy: 0.9111\n",
            "Epoch 78/100\n",
            "7/7 [==============================] - 0s 21ms/step - loss: 0.4482 - accuracy: 0.9238 - val_loss: 0.4461 - val_accuracy: 0.9111\n",
            "Epoch 79/100\n",
            "7/7 [==============================] - 0s 22ms/step - loss: 0.4464 - accuracy: 0.9238 - val_loss: 0.4443 - val_accuracy: 0.9111\n",
            "Epoch 80/100\n",
            "7/7 [==============================] - 0s 18ms/step - loss: 0.4445 - accuracy: 0.9333 - val_loss: 0.4426 - val_accuracy: 0.9111\n",
            "Epoch 81/100\n",
            "7/7 [==============================] - 0s 14ms/step - loss: 0.4427 - accuracy: 0.9333 - val_loss: 0.4408 - val_accuracy: 0.9111\n",
            "Epoch 82/100\n",
            "7/7 [==============================] - 0s 9ms/step - loss: 0.4409 - accuracy: 0.9333 - val_loss: 0.4391 - val_accuracy: 0.9111\n",
            "Epoch 83/100\n",
            "7/7 [==============================] - 0s 10ms/step - loss: 0.4393 - accuracy: 0.9333 - val_loss: 0.4374 - val_accuracy: 0.9111\n",
            "Epoch 84/100\n",
            "7/7 [==============================] - 0s 8ms/step - loss: 0.4373 - accuracy: 0.9333 - val_loss: 0.4357 - val_accuracy: 0.9111\n",
            "Epoch 85/100\n",
            "7/7 [==============================] - 0s 26ms/step - loss: 0.4356 - accuracy: 0.9333 - val_loss: 0.4340 - val_accuracy: 0.9111\n",
            "Epoch 86/100\n",
            "7/7 [==============================] - 0s 15ms/step - loss: 0.4338 - accuracy: 0.9333 - val_loss: 0.4323 - val_accuracy: 0.9111\n",
            "Epoch 87/100\n",
            "7/7 [==============================] - 0s 34ms/step - loss: 0.4320 - accuracy: 0.9333 - val_loss: 0.4307 - val_accuracy: 0.9111\n",
            "Epoch 88/100\n",
            "7/7 [==============================] - 0s 22ms/step - loss: 0.4302 - accuracy: 0.9333 - val_loss: 0.4290 - val_accuracy: 0.9111\n",
            "Epoch 89/100\n",
            "7/7 [==============================] - 0s 11ms/step - loss: 0.4285 - accuracy: 0.9333 - val_loss: 0.4274 - val_accuracy: 0.9111\n",
            "Epoch 90/100\n",
            "7/7 [==============================] - 0s 23ms/step - loss: 0.4269 - accuracy: 0.9429 - val_loss: 0.4257 - val_accuracy: 0.9111\n",
            "Epoch 91/100\n",
            "7/7 [==============================] - 0s 16ms/step - loss: 0.4251 - accuracy: 0.9429 - val_loss: 0.4241 - val_accuracy: 0.9111\n",
            "Epoch 92/100\n",
            "7/7 [==============================] - 0s 14ms/step - loss: 0.4234 - accuracy: 0.9524 - val_loss: 0.4225 - val_accuracy: 0.9111\n",
            "Epoch 93/100\n",
            "7/7 [==============================] - 0s 8ms/step - loss: 0.4216 - accuracy: 0.9524 - val_loss: 0.4209 - val_accuracy: 0.9111\n",
            "Epoch 94/100\n",
            "7/7 [==============================] - 0s 11ms/step - loss: 0.4200 - accuracy: 0.9524 - val_loss: 0.4192 - val_accuracy: 0.9111\n",
            "Epoch 95/100\n",
            "7/7 [==============================] - 0s 11ms/step - loss: 0.4182 - accuracy: 0.9524 - val_loss: 0.4177 - val_accuracy: 0.9111\n",
            "Epoch 96/100\n",
            "7/7 [==============================] - 0s 19ms/step - loss: 0.4166 - accuracy: 0.9524 - val_loss: 0.4161 - val_accuracy: 0.9111\n",
            "Epoch 97/100\n",
            "7/7 [==============================] - 0s 24ms/step - loss: 0.4150 - accuracy: 0.9524 - val_loss: 0.4145 - val_accuracy: 0.9111\n",
            "Epoch 98/100\n",
            "7/7 [==============================] - 0s 28ms/step - loss: 0.4133 - accuracy: 0.9524 - val_loss: 0.4130 - val_accuracy: 0.9111\n",
            "Epoch 99/100\n",
            "7/7 [==============================] - 0s 30ms/step - loss: 0.4117 - accuracy: 0.9524 - val_loss: 0.4114 - val_accuracy: 0.9111\n",
            "Epoch 100/100\n",
            "7/7 [==============================] - 0s 27ms/step - loss: 0.4101 - accuracy: 0.9524 - val_loss: 0.4099 - val_accuracy: 0.9111\n"
          ]
        }
      ]
    },
    {
      "cell_type": "markdown",
      "source": [
        "Post training Weights and biases"
      ],
      "metadata": {
        "id": "Zs6qBIou_CW4"
      }
    },
    {
      "cell_type": "code",
      "source": [
        "weights = model.get_weights()"
      ],
      "metadata": {
        "id": "Dc482GTU-51V"
      },
      "execution_count": 39,
      "outputs": []
    },
    {
      "cell_type": "code",
      "source": [
        "weights"
      ],
      "metadata": {
        "colab": {
          "base_uri": "https://localhost:8080/"
        },
        "id": "1MTi46ja_GYF",
        "outputId": "0fbc23d3-5f1f-46c0-be2e-bdcb33a7830e"
      },
      "execution_count": 40,
      "outputs": [
        {
          "output_type": "execute_result",
          "data": {
            "text/plain": [
              "[array([[-0.00668213, -0.1935099 , -1.0673921 , -0.5933883 ,  0.54871833],\n",
              "        [-0.44479075, -0.0774549 ,  0.6340175 ,  0.25584456, -0.62033373],\n",
              "        [-1.110538  , -1.2295048 , -0.61987495, -0.21270317,  0.57614756],\n",
              "        [-0.40581638, -1.3911281 , -1.0980726 , -0.7799756 ,  1.480653  ]],\n",
              "       dtype=float32),\n",
              " array([ 0.02743044,  0.63263243, -0.9399442 , -0.15867673,  0.34690008],\n",
              "       dtype=float32),\n",
              " array([[ 0.288483  ,  0.58856034, -0.908536  ],\n",
              "        [ 0.17095429, -0.01657689, -1.7384303 ],\n",
              "        [ 1.4454014 , -0.9569908 , -0.6664226 ],\n",
              "        [ 0.7933318 ,  0.45221445, -0.42765832],\n",
              "        [-1.1907811 ,  0.3501639 ,  1.4896927 ]], dtype=float32),\n",
              " array([-0.5397446 ,  0.07660513,  0.36761132], dtype=float32)]"
            ]
          },
          "metadata": {},
          "execution_count": 40
        }
      ]
    },
    {
      "cell_type": "markdown",
      "source": [
        "Plot Loss/Accuracy Curve for Training and Validation Data"
      ],
      "metadata": {
        "id": "DgLAR3jx_Jss"
      }
    },
    {
      "cell_type": "code",
      "source": [
        "from keras.utils import plot_model\n",
        "import matplotlib.pyplot as plt"
      ],
      "metadata": {
        "id": "2oCWtSMa_Hmt"
      },
      "execution_count": 41,
      "outputs": []
    },
    {
      "cell_type": "code",
      "source": [
        "#Plotting loss/accuracy profile of the model on training data\n",
        "plt.figure(figsize = (12,10))\n",
        "plt.subplot(211)\n",
        "plt.title('Loss-Accuracy on Training Data')\n",
        "plt.plot(history.history['loss'], label = 'loss')\n",
        "plt.plot(history.history['accuracy'], label = 'accuracy')\n",
        "plt.legend()"
      ],
      "metadata": {
        "colab": {
          "base_uri": "https://localhost:8080/",
          "height": 328
        },
        "id": "r0n9Q1V0_R3k",
        "outputId": "ff8a6920-a4c7-44cd-b5ff-b5751c63dab1"
      },
      "execution_count": 43,
      "outputs": [
        {
          "output_type": "execute_result",
          "data": {
            "text/plain": [
              "<matplotlib.legend.Legend at 0x7fd613976d30>"
            ]
          },
          "metadata": {},
          "execution_count": 43
        },
        {
          "output_type": "display_data",
          "data": {
            "text/plain": [
              "<Figure size 864x720 with 1 Axes>"
            ],
            "image/png": "[encoded data removed]"
          },
          "metadata": {
            "needs_background": "light"
          }
        }
      ]
    },
    {
      "cell_type": "code",
      "source": [
        "# Plot Loss/Accuracy Profile of the model on Test/Validation Data\n",
        "plt.figure(figsize=(12,10))\n",
        "plt.subplot(211)\n",
        "plt.title('Loss-Accuracy on Validation Data')\n",
        "plt.plot(history.history['val_loss'], label='loss')\n",
        "plt.plot(history.history['val_accuracy'], label='accuracy')\n",
        "plt.legend()"
      ],
      "metadata": {
        "colab": {
          "base_uri": "https://localhost:8080/",
          "height": 328
        },
        "id": "OZkozqPH_2lD",
        "outputId": "d9f890ce-5289-4af4-d3a5-55e57757e732"
      },
      "execution_count": 44,
      "outputs": [
        {
          "output_type": "execute_result",
          "data": {
            "text/plain": [
              "<matplotlib.legend.Legend at 0x7fd6138d34f0>"
            ]
          },
          "metadata": {},
          "execution_count": 44
        },
        {
          "output_type": "display_data",
          "data": {
            "text/plain": [
              "<Figure size 864x720 with 1 Axes>"
            ],
            "image/png": "[encoded data removed]"
          },
          "metadata": {
            "needs_background": "light"
          }
        }
      ]
    },
    {
      "cell_type": "markdown",
      "source": [
        "Testing/Making Predictions"
      ],
      "metadata": {
        "id": "QlbvmyTTABRN"
      }
    },
    {
      "cell_type": "code",
      "source": [
        "# Actual predictions from the ANN are number between 0 and 1 (output of the Sigmoid activation)\n",
        "pred = model.predict(X_test_std)\n",
        "print(pred)"
      ],
      "metadata": {
        "colab": {
          "base_uri": "https://localhost:8080/"
        },
        "id": "qYeJHGtE_-ow",
        "outputId": "8bc7abb2-1615-4966-c51b-5ffd0b6f7b1c"
      },
      "execution_count": 45,
      "outputs": [
        {
          "output_type": "stream",
          "name": "stdout",
          "text": [
            "2/2 [==============================] - 0s 9ms/step\n",
            "[[0.06606783 0.37929162 0.55464053]\n",
            " [0.02738592 0.23467769 0.7379363 ]\n",
            " [0.08159307 0.3984529  0.5199541 ]\n",
            " [0.85268134 0.14147696 0.00584166]\n",
            " [0.04706189 0.3285889  0.6243493 ]\n",
            " [0.05482869 0.39550382 0.54966754]\n",
            " [0.02589596 0.22543462 0.74866956]\n",
            " [0.05224931 0.3819762  0.56577444]\n",
            " [0.8519051  0.14184351 0.00625146]\n",
            " [0.13501461 0.45495123 0.4100341 ]\n",
            " [0.86408806 0.13012573 0.0057861 ]\n",
            " [0.86167955 0.1324833  0.00583707]\n",
            " [0.13745682 0.5325618  0.3299814 ]\n",
            " [0.8574916  0.13666835 0.00584009]\n",
            " [0.06011763 0.3784075  0.56147486]\n",
            " [0.03084607 0.24657294 0.72258085]\n",
            " [0.85597825 0.1364495  0.00757227]\n",
            " [0.85485554 0.13881367 0.00633087]\n",
            " [0.85249656 0.1418002  0.00570327]\n",
            " [0.03650606 0.27512562 0.68836826]\n",
            " [0.07004656 0.43093765 0.4990158 ]\n",
            " [0.2734708  0.61777914 0.10874997]\n",
            " [0.05475178 0.3753951  0.5698531 ]\n",
            " [0.12010581 0.5608459  0.3190483 ]\n",
            " [0.0277635  0.23670228 0.7355343 ]\n",
            " [0.07765379 0.44623223 0.47611392]\n",
            " [0.06849886 0.42530596 0.5061952 ]\n",
            " [0.85825187 0.13571611 0.00603188]\n",
            " [0.03376222 0.26561004 0.7006278 ]\n",
            " [0.04928008 0.3265639  0.624156  ]\n",
            " [0.86541176 0.12971471 0.00487361]\n",
            " [0.25632933 0.6484349  0.09523582]\n",
            " [0.2376443  0.60839653 0.15395918]\n",
            " [0.17277525 0.6255117  0.20171306]\n",
            " [0.8587044  0.13531418 0.00598146]\n",
            " [0.03477681 0.25521725 0.71000594]\n",
            " [0.21349514 0.6432145  0.14329039]\n",
            " [0.21194093 0.63362604 0.15443294]\n",
            " [0.85994846 0.13375372 0.00629787]\n",
            " [0.04164406 0.31245667 0.64589924]\n",
            " [0.86371446 0.13063851 0.00564695]\n",
            " [0.82800984 0.16362698 0.0083632 ]\n",
            " [0.14531334 0.68182385 0.17286274]\n",
            " [0.8294205  0.16258655 0.00799295]\n",
            " [0.09786706 0.5043857  0.3977472 ]]\n"
          ]
        }
      ]
    },
    {
      "cell_type": "markdown",
      "source": [
        "Classification Metrics"
      ],
      "metadata": {
        "id": "I0CMo7KLAM-_"
      }
    },
    {
      "cell_type": "code",
      "source": [
        "from sklearn.metrics import accuracy_score, classification_report, confusion_matrix"
      ],
      "metadata": {
        "id": "bAk5Ni-UAGxn"
      },
      "execution_count": 46,
      "outputs": []
    },
    {
      "cell_type": "markdown",
      "source": [
        "Accuracy"
      ],
      "metadata": {
        "id": "xdtyQGtjAVCp"
      }
    },
    {
      "cell_type": "code",
      "source": [
        "pred_labels = np.argmax(model.predict(X_test_std), axis=1)"
      ],
      "metadata": {
        "colab": {
          "base_uri": "https://localhost:8080/"
        },
        "id": "H4-mbbx7ATAC",
        "outputId": "ed827b82-ec02-4ada-f69e-9afb42644be1"
      },
      "execution_count": 48,
      "outputs": [
        {
          "output_type": "stream",
          "name": "stdout",
          "text": [
            "2/2 [==============================] - 0s 6ms/step\n"
          ]
        }
      ]
    },
    {
      "cell_type": "code",
      "source": [
        "true_labels = np.argmax(y_test, axis = 1)"
      ],
      "metadata": {
        "id": "UMJdpRZuAkol"
      },
      "execution_count": 49,
      "outputs": []
    },
    {
      "cell_type": "code",
      "source": [
        "acc = accuracy_score(true_labels, pred_labels) \n",
        "print(\" Accuracy = \", round(acc *100, 2) , '%')"
      ],
      "metadata": {
        "colab": {
          "base_uri": "https://localhost:8080/"
        },
        "id": "66hv95F8AqOv",
        "outputId": "836f6c8a-68d2-4963-b703-82f4be1eb3d6"
      },
      "execution_count": 51,
      "outputs": [
        {
          "output_type": "stream",
          "name": "stdout",
          "text": [
            " Accuracy =  91.11 %\n"
          ]
        }
      ]
    },
    {
      "cell_type": "markdown",
      "source": [
        "Classification Report"
      ],
      "metadata": {
        "id": "WsoaunxpA-dX"
      }
    },
    {
      "cell_type": "code",
      "source": [
        "print(classification_report (true_labels, pred_labels))"
      ],
      "metadata": {
        "colab": {
          "base_uri": "https://localhost:8080/"
        },
        "id": "4EcVX4X7A1AJ",
        "outputId": "f7f7d4f2-a359-400b-bc96-2e5671e7093f"
      },
      "execution_count": 52,
      "outputs": [
        {
          "output_type": "stream",
          "name": "stdout",
          "text": [
            "              precision    recall  f1-score   support\n",
            "\n",
            "           0       1.00      1.00      1.00        15\n",
            "           1       1.00      0.73      0.85        15\n",
            "           2       0.79      1.00      0.88        15\n",
            "\n",
            "    accuracy                           0.91        45\n",
            "   macro avg       0.93      0.91      0.91        45\n",
            "weighted avg       0.93      0.91      0.91        45\n",
            "\n"
          ]
        }
      ]
    },
    {
      "cell_type": "markdown",
      "source": [
        "Confusion Matrix"
      ],
      "metadata": {
        "id": "yrClW3mmBDh3"
      }
    },
    {
      "cell_type": "code",
      "source": [
        "print(confusion_matrix (true_labels, pred_labels))"
      ],
      "metadata": {
        "colab": {
          "base_uri": "https://localhost:8080/"
        },
        "id": "cUYrb-3qBAm9",
        "outputId": "e1290c14-bf49-495b-8d99-bf9789e8fe70"
      },
      "execution_count": 53,
      "outputs": [
        {
          "output_type": "stream",
          "name": "stdout",
          "text": [
            "[[15  0  0]\n",
            " [ 0 11  4]\n",
            " [ 0  0 15]]\n"
          ]
        }
      ]
    },
    {
      "cell_type": "markdown",
      "source": [
        "Evaluating the model on Test dataset"
      ],
      "metadata": {
        "id": "tTzRiYWXBLK9"
      }
    },
    {
      "cell_type": "code",
      "source": [
        "results = model.evaluate(X_test_std, y_test)\n",
        "\n",
        "print('Final test set loss {:4f}'.format(results[0]))\n",
        "print('Final test set accuracy {:4f}'.format(results[1]))"
      ],
      "metadata": {
        "colab": {
          "base_uri": "https://localhost:8080/"
        },
        "id": "5QtFlAtkBFm1",
        "outputId": "b72f6531-283a-40f9-ddb9-40e16a5aec4b"
      },
      "execution_count": 54,
      "outputs": [
        {
          "output_type": "stream",
          "name": "stdout",
          "text": [
            "2/2 [==============================] - 0s 10ms/step - loss: 0.4099 - accuracy: 0.9111\n",
            "Final test set loss 0.409905\n",
            "Final test set accuracy 0.911111\n"
          ]
        }
      ]
    },
    {
      "cell_type": "markdown",
      "source": [
        "Verifying the Output with an Individual sample"
      ],
      "metadata": {
        "id": "Mh0PJPmPBj5E"
      }
    },
    {
      "cell_type": "code",
      "source": [
        "#Actual predictions from the ANN are numbers between 0 and 1 (output of the Sigmoid activations)\n",
        "\n",
        "idx = 12\n",
        "individual_test_sample = X_test_std[idx,:].reshape(1,4)\n",
        "\n",
        "print(\"\\n Input sample Original:\", X_test[idx,:].reshape(1,4))\n",
        "print(\"\\n Input sample Standardize:\", individual_test_sample)\n",
        "\n",
        "pred = model.predict(individual_test_sample)\n",
        "print('\\n Predicted value : ', pred)\n",
        "\n",
        "print('\\n Predicted label by the model : ', np.argmax(pred))\n",
        "\n",
        "print('\\n True/Actual Label : ', y_test[idx])"
      ],
      "metadata": {
        "colab": {
          "base_uri": "https://localhost:8080/"
        },
        "id": "TdpLPORnBgDU",
        "outputId": "2bf39272-2b2b-487f-d968-d887a53dfe74"
      },
      "execution_count": 60,
      "outputs": [
        {
          "output_type": "stream",
          "name": "stdout",
          "text": [
            "\n",
            " Input sample Original: [[5.9 3.  4.2 1.5]]\n",
            "\n",
            " Input sample Standardize: [[ 0.06936532 -0.15936179  0.26058315  0.39001227]]\n",
            "1/1 [==============================] - 0s 64ms/step\n",
            "\n",
            " Predicted value :  [[0.1374568  0.5325618  0.32998142]]\n",
            "\n",
            " Predicted label by the model :  1\n",
            "\n",
            " True/Actual Label :  [0. 1. 0.]\n"
          ]
        }
      ]
    },
    {
      "cell_type": "code",
      "source": [],
      "metadata": {
        "id": "pBaSlwIICcIS"
      },
      "execution_count": null,
      "outputs": []
    }
  ]
}