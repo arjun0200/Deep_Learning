{
  "nbformat": 4,
  "nbformat_minor": 0,
  "metadata": {
    "colab": {
      "provenance": []
    },
    "kernelspec": {
      "name": "python3",
      "display_name": "Python 3"
    },
    "language_info": {
      "name": "python"
    }
  },
  "cells": [
    {
      "cell_type": "markdown",
      "source": [
        "##Multi Layer Perceptron for IRIS Flower Classification - Solving a Binary Classification Problem"
      ],
      "metadata": {
        "id": "WMQ8dXaXvzfZ"
      }
    },
    {
      "cell_type": "markdown",
      "source": [
        "###Using Keras to Build ANN - MLP"
      ],
      "metadata": {
        "id": "4a31q1COv3GK"
      }
    },
    {
      "cell_type": "code",
      "execution_count": 1,
      "metadata": {
        "id": "eUKP7_ZOu9rW"
      },
      "outputs": [],
      "source": [
        "import pandas as pd\n",
        "import numpy as np"
      ]
    },
    {
      "cell_type": "code",
      "source": [
        "df = pd.read_csv(\"https://raw.githubusercontent.com/arjun0200/Deep_Learning/main/IRIS.csv\")\n",
        "df.head()"
      ],
      "metadata": {
        "colab": {
          "base_uri": "https://localhost:8080/",
          "height": 206
        },
        "id": "PLR_U9S-vFck",
        "outputId": "20d8760d-0598-4239-c7d6-007194b30870"
      },
      "execution_count": 3,
      "outputs": [
        {
          "output_type": "execute_result",
          "data": {
            "text/plain": [
              "   sepal_length  sepal_width  petal_length  petal_width species\n",
              "0           5.1          3.5           1.4          0.2  Setosa\n",
              "1           4.9          3.0           1.4          0.2  Setosa\n",
              "2           4.7          3.2           1.3          0.2  Setosa\n",
              "3           4.6          3.1           1.5          0.2  Setosa\n",
              "4           5.0          3.6           1.4          0.2  Setosa"
            ],
            "text/html": [
              "\n",
              "  <div id=\"df-873382eb-37e5-4d2f-b006-91223dcb18d2\">\n",
              "    <div class=\"colab-df-container\">\n",
              "      <div>\n",
              "<style scoped>\n",
              "    .dataframe tbody tr th:only-of-type {\n",
              "        vertical-align: middle;\n",
              "    }\n",
              "\n",
              "    .dataframe tbody tr th {\n",
              "        vertical-align: top;\n",
              "    }\n",
              "\n",
              "    .dataframe thead th {\n",
              "        text-align: right;\n",
              "    }\n",
              "</style>\n",
              "<table border=\"1\" class=\"dataframe\">\n",
              "  <thead>\n",
              "    <tr style=\"text-align: right;\">\n",
              "      <th></th>\n",
              "      <th>sepal_length</th>\n",
              "      <th>sepal_width</th>\n",
              "      <th>petal_length</th>\n",
              "      <th>petal_width</th>\n",
              "      <th>species</th>\n",
              "    </tr>\n",
              "  </thead>\n",
              "  <tbody>\n",
              "    <tr>\n",
              "      <th>0</th>\n",
              "      <td>5.1</td>\n",
              "      <td>3.5</td>\n",
              "      <td>1.4</td>\n",
              "      <td>0.2</td>\n",
              "      <td>Setosa</td>\n",
              "    </tr>\n",
              "    <tr>\n",
              "      <th>1</th>\n",
              "      <td>4.9</td>\n",
              "      <td>3.0</td>\n",
              "      <td>1.4</td>\n",
              "      <td>0.2</td>\n",
              "      <td>Setosa</td>\n",
              "    </tr>\n",
              "    <tr>\n",
              "      <th>2</th>\n",
              "      <td>4.7</td>\n",
              "      <td>3.2</td>\n",
              "      <td>1.3</td>\n",
              "      <td>0.2</td>\n",
              "      <td>Setosa</td>\n",
              "    </tr>\n",
              "    <tr>\n",
              "      <th>3</th>\n",
              "      <td>4.6</td>\n",
              "      <td>3.1</td>\n",
              "      <td>1.5</td>\n",
              "      <td>0.2</td>\n",
              "      <td>Setosa</td>\n",
              "    </tr>\n",
              "    <tr>\n",
              "      <th>4</th>\n",
              "      <td>5.0</td>\n",
              "      <td>3.6</td>\n",
              "      <td>1.4</td>\n",
              "      <td>0.2</td>\n",
              "      <td>Setosa</td>\n",
              "    </tr>\n",
              "  </tbody>\n",
              "</table>\n",
              "</div>\n",
              "      <button class=\"colab-df-convert\" onclick=\"convertToInteractive('df-873382eb-37e5-4d2f-b006-91223dcb18d2')\"\n",
              "              title=\"Convert this dataframe to an interactive table.\"\n",
              "              style=\"display:none;\">\n",
              "        \n",
              "  <svg xmlns=\"http://www.w3.org/2000/svg\" height=\"24px\"viewBox=\"0 0 24 24\"\n",
              "       width=\"24px\">\n",
              "    <path d=\"M0 0h24v24H0V0z\" fill=\"none\"/>\n",
              "    <path d=\"M18.56 5.44l.94 2.06.94-2.06 2.06-.94-2.06-.94-.94-2.06-.94 2.06-2.06.94zm-11 1L8.5 8.5l.94-2.06 2.06-.94-2.06-.94L8.5 2.5l-.94 2.06-2.06.94zm10 10l.94 2.06.94-2.06 2.06-.94-2.06-.94-.94-2.06-.94 2.06-2.06.94z\"/><path d=\"M17.41 7.96l-1.37-1.37c-.4-.4-.92-.59-1.43-.59-.52 0-1.04.2-1.43.59L10.3 9.45l-7.72 7.72c-.78.78-.78 2.05 0 2.83L4 21.41c.39.39.9.59 1.41.59.51 0 1.02-.2 1.41-.59l7.78-7.78 2.81-2.81c.8-.78.8-2.07 0-2.86zM5.41 20L4 18.59l7.72-7.72 1.47 1.35L5.41 20z\"/>\n",
              "  </svg>\n",
              "      </button>\n",
              "      \n",
              "  <style>\n",
              "    .colab-df-container {\n",
              "      display:flex;\n",
              "      flex-wrap:wrap;\n",
              "      gap: 12px;\n",
              "    }\n",
              "\n",
              "    .colab-df-convert {\n",
              "      background-color: #E8F0FE;\n",
              "      border: none;\n",
              "      border-radius: 50%;\n",
              "      cursor: pointer;\n",
              "      display: none;\n",
              "      fill: #1967D2;\n",
              "      height: 32px;\n",
              "      padding: 0 0 0 0;\n",
              "      width: 32px;\n",
              "    }\n",
              "\n",
              "    .colab-df-convert:hover {\n",
              "      background-color: #E2EBFA;\n",
              "      box-shadow: 0px 1px 2px rgba(60, 64, 67, 0.3), 0px 1px 3px 1px rgba(60, 64, 67, 0.15);\n",
              "      fill: #174EA6;\n",
              "    }\n",
              "\n",
              "    [theme=dark] .colab-df-convert {\n",
              "      background-color: #3B4455;\n",
              "      fill: #D2E3FC;\n",
              "    }\n",
              "\n",
              "    [theme=dark] .colab-df-convert:hover {\n",
              "      background-color: #434B5C;\n",
              "      box-shadow: 0px 1px 3px 1px rgba(0, 0, 0, 0.15);\n",
              "      filter: drop-shadow(0px 1px 2px rgba(0, 0, 0, 0.3));\n",
              "      fill: #FFFFFF;\n",
              "    }\n",
              "  </style>\n",
              "\n",
              "      <script>\n",
              "        const buttonEl =\n",
              "          document.querySelector('#df-873382eb-37e5-4d2f-b006-91223dcb18d2 button.colab-df-convert');\n",
              "        buttonEl.style.display =\n",
              "          google.colab.kernel.accessAllowed ? 'block' : 'none';\n",
              "\n",
              "        async function convertToInteractive(key) {\n",
              "          const element = document.querySelector('#df-873382eb-37e5-4d2f-b006-91223dcb18d2');\n",
              "          const dataTable =\n",
              "            await google.colab.kernel.invokeFunction('convertToInteractive',\n",
              "                                                     [key], {});\n",
              "          if (!dataTable) return;\n",
              "\n",
              "          const docLinkHtml = 'Like what you see? Visit the ' +\n",
              "            '<a target=\"_blank\" href=https://colab.research.google.com/notebooks/data_table.ipynb>data table notebook</a>'\n",
              "            + ' to learn more about interactive tables.';\n",
              "          element.innerHTML = '';\n",
              "          dataTable['output_type'] = 'display_data';\n",
              "          await google.colab.output.renderOutput(dataTable, element);\n",
              "          const docLink = document.createElement('div');\n",
              "          docLink.innerHTML = docLinkHtml;\n",
              "          element.appendChild(docLink);\n",
              "        }\n",
              "      </script>\n",
              "    </div>\n",
              "  </div>\n",
              "  "
            ]
          },
          "metadata": {},
          "execution_count": 3
        }
      ]
    },
    {
      "cell_type": "code",
      "source": [
        "df.columns"
      ],
      "metadata": {
        "colab": {
          "base_uri": "https://localhost:8080/"
        },
        "id": "HyZS74F1u_4W",
        "outputId": "c3e351ae-b8b2-4cee-a8a6-ad41818de4c2"
      },
      "execution_count": 4,
      "outputs": [
        {
          "output_type": "execute_result",
          "data": {
            "text/plain": [
              "Index(['sepal_length', 'sepal_width', 'petal_length', 'petal_width',\n",
              "       'species'],\n",
              "      dtype='object')"
            ]
          },
          "metadata": {},
          "execution_count": 4
        }
      ]
    },
    {
      "cell_type": "code",
      "source": [
        "df.species.unique()"
      ],
      "metadata": {
        "colab": {
          "base_uri": "https://localhost:8080/"
        },
        "id": "shr7cApRvSH-",
        "outputId": "bd5e849b-9f67-4a64-c0cb-c97e203d4375"
      },
      "execution_count": 5,
      "outputs": [
        {
          "output_type": "execute_result",
          "data": {
            "text/plain": [
              "array(['Setosa', 'Versicolor', 'Virginica'], dtype=object)"
            ]
          },
          "metadata": {},
          "execution_count": 5
        }
      ]
    },
    {
      "cell_type": "code",
      "source": [
        "df.info()"
      ],
      "metadata": {
        "colab": {
          "base_uri": "https://localhost:8080/"
        },
        "id": "GA0BNLNkwFn9",
        "outputId": "f899969e-685a-4434-a0f6-335d9ff87c06"
      },
      "execution_count": 6,
      "outputs": [
        {
          "output_type": "stream",
          "name": "stdout",
          "text": [
            "<class 'pandas.core.frame.DataFrame'>\n",
            "RangeIndex: 150 entries, 0 to 149\n",
            "Data columns (total 5 columns):\n",
            " #   Column        Non-Null Count  Dtype  \n",
            "---  ------        --------------  -----  \n",
            " 0   sepal_length  150 non-null    float64\n",
            " 1   sepal_width   150 non-null    float64\n",
            " 2   petal_length  150 non-null    float64\n",
            " 3   petal_width   150 non-null    float64\n",
            " 4   species       150 non-null    object \n",
            "dtypes: float64(4), object(1)\n",
            "memory usage: 6.0+ KB\n"
          ]
        }
      ]
    },
    {
      "cell_type": "markdown",
      "source": [
        "Scaling dataset"
      ],
      "metadata": {
        "id": "ZuVTtBfMwotZ"
      }
    },
    {
      "cell_type": "code",
      "source": [
        "from sklearn.preprocessing import MinMaxScaler\n",
        "import matplotlib.pyplot as plt\n",
        "\n",
        "X = df[['sepal_length', 'sepal_width', 'petal_length', 'petal_width']]\n",
        "\n",
        "scaler = MinMaxScaler()\n",
        "X_scaled = scaler.fit_transform(X)\n",
        "print(\"X_scaled type is\", type(X_scaled))\n",
        "\n",
        "y_species = df.species\n",
        "\n",
        "X_scaled_df = pd.DataFrame(X_scaled, columns = ['sepal_length', 'sepal_width', 'petal_length', 'petal_width'])\n",
        "\n",
        "final_df = pd.concat([X_scaled_df, y_species], axis = 1)"
      ],
      "metadata": {
        "colab": {
          "base_uri": "https://localhost:8080/"
        },
        "id": "Jll4BqtBwIQB",
        "outputId": "f185b9aa-a04c-463e-8281-445ad56892bc"
      },
      "execution_count": 7,
      "outputs": [
        {
          "output_type": "stream",
          "name": "stdout",
          "text": [
            "X_scaled type is <class 'numpy.ndarray'>\n"
          ]
        }
      ]
    },
    {
      "cell_type": "code",
      "source": [
        "# Notice x-axis on subplots are all the same for all features (0 to 1) after scaling.\n",
        "fig = plt.figure(figsize=(12,7))\n",
        "fig.suptitle('Frequency Distribution of Features by Species ',fontsize=20)\n",
        "ax1 = fig.add_subplot(221)\n",
        "final_df.groupby('species').petal_length.plot(kind = 'hist', alpha = 0.8, legend = True, title = 'Petal Length')\n",
        "ax2 = fig.add_subplot(222,sharey=ax1)\n",
        "final_df.groupby(\"species\").petal_width.plot(kind='hist',alpha=0.8,legend=True,title='Petal Width')\n",
        "ax3 = fig.add_subplot(223,sharey=ax1)\n",
        "final_df.groupby(\"species\").sepal_length.plot(kind='hist',alpha=0.8,legend=True,title='Sepal Length')\n",
        "ax4 = fig.add_subplot(224,sharey=ax1)\n",
        "final_df.groupby(\"species\").sepal_width.plot(kind='hist',alpha=0.8,legend=True,title='Sepal Width')\n",
        "\n",
        "plt.tight_layout(pad=4, w_pad=1, h_pad=1.5)\n",
        "plt.show()"
      ],
      "metadata": {
        "colab": {
          "base_uri": "https://localhost:8080/",
          "height": 485
        },
        "id": "_KErbtEGwycX",
        "outputId": "a9899a5f-f20b-4ace-f543-93f5687d0ca4"
      },
      "execution_count": 8,
      "outputs": [
        {
          "output_type": "display_data",
          "data": {
            "text/plain": [
              "<Figure size 864x504 with 4 Axes>"
            ],
            "image/png": "[encoded data removed]"
          },
          "metadata": {
            "needs_background": "light"
          }
        }
      ]
    },
    {
      "cell_type": "markdown",
      "source": [
        "Summary Statistcis"
      ],
      "metadata": {
        "id": "cWFxXOSyy1jk"
      }
    },
    {
      "cell_type": "code",
      "source": [
        "final_df.describe()"
      ],
      "metadata": {
        "colab": {
          "base_uri": "https://localhost:8080/",
          "height": 300
        },
        "id": "CYZEvhxow9m8",
        "outputId": "df71f4b7-94fd-446e-cfa6-a9b39f4cc789"
      },
      "execution_count": 9,
      "outputs": [
        {
          "output_type": "execute_result",
          "data": {
            "text/plain": [
              "       sepal_length  sepal_width  petal_length  petal_width\n",
              "count    150.000000   150.000000    150.000000   150.000000\n",
              "mean       0.428704     0.440556      0.467458     0.458056\n",
              "std        0.230018     0.181611      0.299203     0.317599\n",
              "min        0.000000     0.000000      0.000000     0.000000\n",
              "25%        0.222222     0.333333      0.101695     0.083333\n",
              "50%        0.416667     0.416667      0.567797     0.500000\n",
              "75%        0.583333     0.541667      0.694915     0.708333\n",
              "max        1.000000     1.000000      1.000000     1.000000"
            ],
            "text/html": [
              "\n",
              "  <div id=\"df-98335f77-ae5d-4da1-aa72-43d9825753c3\">\n",
              "    <div class=\"colab-df-container\">\n",
              "      <div>\n",
              "<style scoped>\n",
              "    .dataframe tbody tr th:only-of-type {\n",
              "        vertical-align: middle;\n",
              "    }\n",
              "\n",
              "    .dataframe tbody tr th {\n",
              "        vertical-align: top;\n",
              "    }\n",
              "\n",
              "    .dataframe thead th {\n",
              "        text-align: right;\n",
              "    }\n",
              "</style>\n",
              "<table border=\"1\" class=\"dataframe\">\n",
              "  <thead>\n",
              "    <tr style=\"text-align: right;\">\n",
              "      <th></th>\n",
              "      <th>sepal_length</th>\n",
              "      <th>sepal_width</th>\n",
              "      <th>petal_length</th>\n",
              "      <th>petal_width</th>\n",
              "    </tr>\n",
              "  </thead>\n",
              "  <tbody>\n",
              "    <tr>\n",
              "      <th>count</th>\n",
              "      <td>150.000000</td>\n",
              "      <td>150.000000</td>\n",
              "      <td>150.000000</td>\n",
              "      <td>150.000000</td>\n",
              "    </tr>\n",
              "    <tr>\n",
              "      <th>mean</th>\n",
              "      <td>0.428704</td>\n",
              "      <td>0.440556</td>\n",
              "      <td>0.467458</td>\n",
              "      <td>0.458056</td>\n",
              "    </tr>\n",
              "    <tr>\n",
              "      <th>std</th>\n",
              "      <td>0.230018</td>\n",
              "      <td>0.181611</td>\n",
              "      <td>0.299203</td>\n",
              "      <td>0.317599</td>\n",
              "    </tr>\n",
              "    <tr>\n",
              "      <th>min</th>\n",
              "      <td>0.000000</td>\n",
              "      <td>0.000000</td>\n",
              "      <td>0.000000</td>\n",
              "      <td>0.000000</td>\n",
              "    </tr>\n",
              "    <tr>\n",
              "      <th>25%</th>\n",
              "      <td>0.222222</td>\n",
              "      <td>0.333333</td>\n",
              "      <td>0.101695</td>\n",
              "      <td>0.083333</td>\n",
              "    </tr>\n",
              "    <tr>\n",
              "      <th>50%</th>\n",
              "      <td>0.416667</td>\n",
              "      <td>0.416667</td>\n",
              "      <td>0.567797</td>\n",
              "      <td>0.500000</td>\n",
              "    </tr>\n",
              "    <tr>\n",
              "      <th>75%</th>\n",
              "      <td>0.583333</td>\n",
              "      <td>0.541667</td>\n",
              "      <td>0.694915</td>\n",
              "      <td>0.708333</td>\n",
              "    </tr>\n",
              "    <tr>\n",
              "      <th>max</th>\n",
              "      <td>1.000000</td>\n",
              "      <td>1.000000</td>\n",
              "      <td>1.000000</td>\n",
              "      <td>1.000000</td>\n",
              "    </tr>\n",
              "  </tbody>\n",
              "</table>\n",
              "</div>\n",
              "      <button class=\"colab-df-convert\" onclick=\"convertToInteractive('df-98335f77-ae5d-4da1-aa72-43d9825753c3')\"\n",
              "              title=\"Convert this dataframe to an interactive table.\"\n",
              "              style=\"display:none;\">\n",
              "        \n",
              "  <svg xmlns=\"http://www.w3.org/2000/svg\" height=\"24px\"viewBox=\"0 0 24 24\"\n",
              "       width=\"24px\">\n",
              "    <path d=\"M0 0h24v24H0V0z\" fill=\"none\"/>\n",
              "    <path d=\"M18.56 5.44l.94 2.06.94-2.06 2.06-.94-2.06-.94-.94-2.06-.94 2.06-2.06.94zm-11 1L8.5 8.5l.94-2.06 2.06-.94-2.06-.94L8.5 2.5l-.94 2.06-2.06.94zm10 10l.94 2.06.94-2.06 2.06-.94-2.06-.94-.94-2.06-.94 2.06-2.06.94z\"/><path d=\"M17.41 7.96l-1.37-1.37c-.4-.4-.92-.59-1.43-.59-.52 0-1.04.2-1.43.59L10.3 9.45l-7.72 7.72c-.78.78-.78 2.05 0 2.83L4 21.41c.39.39.9.59 1.41.59.51 0 1.02-.2 1.41-.59l7.78-7.78 2.81-2.81c.8-.78.8-2.07 0-2.86zM5.41 20L4 18.59l7.72-7.72 1.47 1.35L5.41 20z\"/>\n",
              "  </svg>\n",
              "      </button>\n",
              "      \n",
              "  <style>\n",
              "    .colab-df-container {\n",
              "      display:flex;\n",
              "      flex-wrap:wrap;\n",
              "      gap: 12px;\n",
              "    }\n",
              "\n",
              "    .colab-df-convert {\n",
              "      background-color: #E8F0FE;\n",
              "      border: none;\n",
              "      border-radius: 50%;\n",
              "      cursor: pointer;\n",
              "      display: none;\n",
              "      fill: #1967D2;\n",
              "      height: 32px;\n",
              "      padding: 0 0 0 0;\n",
              "      width: 32px;\n",
              "    }\n",
              "\n",
              "    .colab-df-convert:hover {\n",
              "      background-color: #E2EBFA;\n",
              "      box-shadow: 0px 1px 2px rgba(60, 64, 67, 0.3), 0px 1px 3px 1px rgba(60, 64, 67, 0.15);\n",
              "      fill: #174EA6;\n",
              "    }\n",
              "\n",
              "    [theme=dark] .colab-df-convert {\n",
              "      background-color: #3B4455;\n",
              "      fill: #D2E3FC;\n",
              "    }\n",
              "\n",
              "    [theme=dark] .colab-df-convert:hover {\n",
              "      background-color: #434B5C;\n",
              "      box-shadow: 0px 1px 3px 1px rgba(0, 0, 0, 0.15);\n",
              "      filter: drop-shadow(0px 1px 2px rgba(0, 0, 0, 0.3));\n",
              "      fill: #FFFFFF;\n",
              "    }\n",
              "  </style>\n",
              "\n",
              "      <script>\n",
              "        const buttonEl =\n",
              "          document.querySelector('#df-98335f77-ae5d-4da1-aa72-43d9825753c3 button.colab-df-convert');\n",
              "        buttonEl.style.display =\n",
              "          google.colab.kernel.accessAllowed ? 'block' : 'none';\n",
              "\n",
              "        async function convertToInteractive(key) {\n",
              "          const element = document.querySelector('#df-98335f77-ae5d-4da1-aa72-43d9825753c3');\n",
              "          const dataTable =\n",
              "            await google.colab.kernel.invokeFunction('convertToInteractive',\n",
              "                                                     [key], {});\n",
              "          if (!dataTable) return;\n",
              "\n",
              "          const docLinkHtml = 'Like what you see? Visit the ' +\n",
              "            '<a target=\"_blank\" href=https://colab.research.google.com/notebooks/data_table.ipynb>data table notebook</a>'\n",
              "            + ' to learn more about interactive tables.';\n",
              "          element.innerHTML = '';\n",
              "          dataTable['output_type'] = 'display_data';\n",
              "          await google.colab.output.renderOutput(dataTable, element);\n",
              "          const docLink = document.createElement('div');\n",
              "          docLink.innerHTML = docLinkHtml;\n",
              "          element.appendChild(docLink);\n",
              "        }\n",
              "      </script>\n",
              "    </div>\n",
              "  </div>\n",
              "  "
            ]
          },
          "metadata": {},
          "execution_count": 9
        }
      ]
    },
    {
      "cell_type": "code",
      "source": [
        "Oimport seaborn as sns\n",
        "import matplotlib.pyplot as plt\n",
        "\n",
        "data = final_df\n",
        "sns.lmplot('sepal_length', 'sepal_width', data=data, fit_reg=False, hue=\"species\", scatter_kws={\"marker\": \"D\", \"s\": 50})\n",
        "plt.title('Sepal Length vs Sepal Width')\n",
        "\n",
        "sns.lmplot('petal_length', 'petal_width', data=data, fit_reg=False, hue=\"species\", scatter_kws={\"marker\": \"D\", \"s\": 50})\n",
        "plt.title('Petal Length vs Petal Width')\n",
        "\n",
        "sns.lmplot('sepal_length', 'petal_length', data=data, fit_reg=False, hue=\"species\", scatter_kws={\"marker\": \"D\", \"s\": 50})\n",
        "plt.title('Sepal Length vs Petal Length')\n",
        "\n",
        "sns.lmplot('sepal_width', 'petal_width', data=data, fit_reg=False, hue=\"species\", scatter_kws={\"marker\": \"D\", \"s\": 50})\n",
        "plt.title('Sepal Width vs Petal Width')\n",
        "\n",
        "plt.show()"
      ],
      "metadata": {
        "id": "pnPCVlMfy5rz",
        "colab": {
          "base_uri": "https://localhost:8080/",
          "height": 1000
        },
        "outputId": "52b0515e-4c9a-4fdc-fece-16b2fce70347"
      },
      "execution_count": 10,
      "outputs": [
        {
          "output_type": "stream",
          "name": "stderr",
          "text": [
            "/usr/local/lib/python3.8/dist-packages/seaborn/_decorators.py:36: FutureWarning: Pass the following variables as keyword args: x, y. From version 0.12, the only valid positional argument will be `data`, and passing other arguments without an explicit keyword will result in an error or misinterpretation.\n",
            "  warnings.warn(\n",
            "/usr/local/lib/python3.8/dist-packages/seaborn/_decorators.py:36: FutureWarning: Pass the following variables as keyword args: x, y. From version 0.12, the only valid positional argument will be `data`, and passing other arguments without an explicit keyword will result in an error or misinterpretation.\n",
            "  warnings.warn(\n",
            "/usr/local/lib/python3.8/dist-packages/seaborn/_decorators.py:36: FutureWarning: Pass the following variables as keyword args: x, y. From version 0.12, the only valid positional argument will be `data`, and passing other arguments without an explicit keyword will result in an error or misinterpretation.\n",
            "  warnings.warn(\n",
            "/usr/local/lib/python3.8/dist-packages/seaborn/_decorators.py:36: FutureWarning: Pass the following variables as keyword args: x, y. From version 0.12, the only valid positional argument will be `data`, and passing other arguments without an explicit keyword will result in an error or misinterpretation.\n",
            "  warnings.warn(\n"
          ]
        },
        {
          "output_type": "display_data",
          "data": {
            "text/plain": [
              "<Figure size 445x360 with 1 Axes>"
            ],
            "image/png": "[encoded data removed]"
          },
          "metadata": {
            "needs_background": "light"
          }
        },
        {
          "output_type": "display_data",
          "data": {
            "text/plain": [
              "<Figure size 445x360 with 1 Axes>"
            ],
            "image/png": "[encoded data removed]"
          },
          "metadata": {
            "needs_background": "light"
          }
        },
        {
          "output_type": "display_data",
          "data": {
            "text/plain": [
              "<Figure size 445x360 with 1 Axes>"
            ],
            "image/png": "[encoded data removed]"
          },
          "metadata": {
            "needs_background": "light"
          }
        },
        {
          "output_type": "display_data",
          "data": {
            "text/plain": [
              "<Figure size 445x360 with 1 Axes>"
            ],
            "image/png": "[encoded data removed]"
          },
          "metadata": {
            "needs_background": "light"
          }
        }
      ]
    },
    {
      "cell_type": "markdown",
      "source": [
        "##Building the MLP Model"
      ],
      "metadata": {
        "id": "9czOJCT-uDlA"
      }
    },
    {
      "cell_type": "code",
      "source": [
        "final_df.species.value_counts()"
      ],
      "metadata": {
        "colab": {
          "base_uri": "https://localhost:8080/"
        },
        "id": "U2OvlRxNuNwA",
        "outputId": "ec70ee16-d3ca-448e-a82d-19fac126100d"
      },
      "execution_count": 22,
      "outputs": [
        {
          "output_type": "execute_result",
          "data": {
            "text/plain": [
              "Setosa        50\n",
              "Versicolor    50\n",
              "Virginica     50\n",
              "Name: species, dtype: int64"
            ]
          },
          "metadata": {},
          "execution_count": 22
        }
      ]
    },
    {
      "cell_type": "code",
      "source": [
        "X = final_df.iloc[:100,:4]\n",
        "X.head()\n",
        "y = final_df.iloc[:100,-1]"
      ],
      "metadata": {
        "id": "0SkD4_MkuWzV"
      },
      "execution_count": 37,
      "outputs": []
    },
    {
      "cell_type": "code",
      "source": [
        "from sklearn.preprocessing import LabelEncoder\n",
        "le = LabelEncoder()\n",
        "y = le.fit_transform(y)\n",
        "y"
      ],
      "metadata": {
        "colab": {
          "base_uri": "https://localhost:8080/"
        },
        "id": "OYgdxRfdvL5_",
        "outputId": "ddf5c63f-968a-4165-9752-70b6b627aa03"
      },
      "execution_count": 39,
      "outputs": [
        {
          "output_type": "execute_result",
          "data": {
            "text/plain": [
              "array([0, 0, 0, 0, 0, 0, 0, 0, 0, 0, 0, 0, 0, 0, 0, 0, 0, 0, 0, 0, 0, 0,\n",
              "       0, 0, 0, 0, 0, 0, 0, 0, 0, 0, 0, 0, 0, 0, 0, 0, 0, 0, 0, 0, 0, 0,\n",
              "       0, 0, 0, 0, 0, 0, 1, 1, 1, 1, 1, 1, 1, 1, 1, 1, 1, 1, 1, 1, 1, 1,\n",
              "       1, 1, 1, 1, 1, 1, 1, 1, 1, 1, 1, 1, 1, 1, 1, 1, 1, 1, 1, 1, 1, 1,\n",
              "       1, 1, 1, 1, 1, 1, 1, 1, 1, 1, 1, 1])"
            ]
          },
          "metadata": {},
          "execution_count": 39
        }
      ]
    },
    {
      "cell_type": "markdown",
      "source": [
        "###Split Data into Training and Test Set"
      ],
      "metadata": {
        "id": "Zl5VI49TwoVy"
      }
    },
    {
      "cell_type": "code",
      "source": [
        "from sklearn.model_selection import train_test_split"
      ],
      "metadata": {
        "id": "jraPuA0dwKPH"
      },
      "execution_count": 40,
      "outputs": []
    },
    {
      "cell_type": "code",
      "source": [
        "X_train, X_test, y_train, y_test = train_test_split(X, y, test_size=0.3, shuffle=True, stratify=y, random_state=101)"
      ],
      "metadata": {
        "id": "H_PNJkW4wsB9"
      },
      "execution_count": 41,
      "outputs": []
    },
    {
      "cell_type": "code",
      "source": [
        "print('\\n Shape of Training data : ', X_train.shape)\n",
        "print('\\n Shape of Test data : ', X_test.shape)"
      ],
      "metadata": {
        "colab": {
          "base_uri": "https://localhost:8080/"
        },
        "id": "OzmahCcZxYrn",
        "outputId": "00f5693e-992d-4bc7-c523-3e73b1eb79e9"
      },
      "execution_count": 42,
      "outputs": [
        {
          "output_type": "stream",
          "name": "stdout",
          "text": [
            "\n",
            " Shape of Training data :  (70, 4)\n",
            "\n",
            " Shape of Test data :  (30, 4)\n"
          ]
        }
      ]
    },
    {
      "cell_type": "code",
      "source": [
        "print('Labels counts in the original dataset - y:', np.bincount(y))\n",
        "print('Labels counts in the training data - y_train:', np.bincount(y_train))\n",
        "print('Labels counts in the test data - y_test:', np.bincount(y_test))"
      ],
      "metadata": {
        "colab": {
          "base_uri": "https://localhost:8080/"
        },
        "id": "37EsIw0exbK3",
        "outputId": "dbe82c73-6cdc-4ad9-df01-e1740aa1c597"
      },
      "execution_count": 43,
      "outputs": [
        {
          "output_type": "stream",
          "name": "stdout",
          "text": [
            "Labels counts in the original dataset - y: [50 50]\n",
            "Labels counts in the training data - y_train: [35 35]\n",
            "Labels counts in the test data - y_test: [15 15]\n"
          ]
        }
      ]
    },
    {
      "cell_type": "markdown",
      "source": [
        "### Standardizing the dataset"
      ],
      "metadata": {
        "id": "FOK4ikmlxitM"
      }
    },
    {
      "cell_type": "code",
      "source": [
        "from sklearn.preprocessing import StandardScaler\n",
        "\n",
        "sc = StandardScaler()\n",
        "sc.fit(X_train)\n",
        "X_train_std = sc.transform(X_train)\n",
        "X_test_std = sc.transform(X_test)"
      ],
      "metadata": {
        "id": "n-f9RKjZxdyV"
      },
      "execution_count": 44,
      "outputs": []
    },
    {
      "cell_type": "markdown",
      "source": [
        "Building the Multilayer Perceptron"
      ],
      "metadata": {
        "id": "2_pWBwiJxow1"
      }
    },
    {
      "cell_type": "code",
      "source": [
        "from keras.models import Sequential, Model\n",
        "from keras.layers import Dense"
      ],
      "metadata": {
        "id": "7dGf27sgxmht"
      },
      "execution_count": 45,
      "outputs": []
    },
    {
      "cell_type": "code",
      "source": [
        "input_dims = 4\n",
        "\n",
        "## MODEL 1\n",
        "# Build a simple MLP model - A Binary Classifier with a single output neuron\n",
        "model = Sequential()\n",
        "model.add(Dense(5, input_dim=input_dims, activation='sigmoid')) # all four features\n",
        "model.add(Dense(1, activation='sigmoid')) # Binary classification : output layer with 1 neuron \n",
        "\n",
        "# Compile MODEL 1\n",
        "model.compile(optimizer='adam', loss='binary_crossentropy', metrics='accuracy')"
      ],
      "metadata": {
        "id": "mduTxC2jxuDR"
      },
      "execution_count": 66,
      "outputs": []
    },
    {
      "cell_type": "code",
      "source": [
        "model.summary()"
      ],
      "metadata": {
        "colab": {
          "base_uri": "https://localhost:8080/"
        },
        "id": "spYIuzFdx8WR",
        "outputId": "5677d8b6-4106-43f9-cd42-b89ed29f57d0"
      },
      "execution_count": 67,
      "outputs": [
        {
          "output_type": "stream",
          "name": "stdout",
          "text": [
            "Model: \"sequential_1\"\n",
            "_________________________________________________________________\n",
            " Layer (type)                Output Shape              Param #   \n",
            "=================================================================\n",
            " dense_2 (Dense)             (None, 5)                 25        \n",
            "                                                                 \n",
            " dense_3 (Dense)             (None, 1)                 6         \n",
            "                                                                 \n",
            "=================================================================\n",
            "Total params: 31\n",
            "Trainable params: 31\n",
            "Non-trainable params: 0\n",
            "_________________________________________________________________\n"
          ]
        }
      ]
    },
    {
      "cell_type": "code",
      "source": [
        "from keras.utils import plot_model\n",
        "plot_model(model)"
      ],
      "metadata": {
        "colab": {
          "base_uri": "https://localhost:8080/",
          "height": 272
        },
        "id": "uAzEli34x-fh",
        "outputId": "5f2b4956-3de7-4c4b-d413-989d34d15811"
      },
      "execution_count": 68,
      "outputs": [
        {
          "output_type": "execute_result",
          "data": {
            "image/png": "[encoded data removed]",
            "text/plain": [
              "<IPython.core.display.Image object>"
            ]
          },
          "metadata": {},
          "execution_count": 68
        }
      ]
    },
    {
      "cell_type": "markdown",
      "source": [
        "Initial Weights and Biases\n",
        "Keras oficial documentation says....\n",
        "\n",
        "kernel_initializer=\"glorot_uniform\"\n",
        "\n",
        "bias_initializer=\"zeros\""
      ],
      "metadata": {
        "id": "p3HaJ5T8yIo8"
      }
    },
    {
      "cell_type": "code",
      "source": [
        "weights = model.get_weights()\n",
        "weights"
      ],
      "metadata": {
        "colab": {
          "base_uri": "https://localhost:8080/"
        },
        "id": "d1-ip0OIyCZY",
        "outputId": "cb3f47a5-e5da-4ffc-97eb-5453a882d683"
      },
      "execution_count": 69,
      "outputs": [
        {
          "output_type": "execute_result",
          "data": {
            "text/plain": [
              "[array([[-0.7511713 , -0.23757476, -0.7664015 ,  0.49244046,  0.7159463 ],\n",
              "        [-0.45595053,  0.77043295, -0.7778614 , -0.39967844, -0.11245519],\n",
              "        [ 0.5171608 ,  0.5601413 , -0.16968662,  0.01168901,  0.7245699 ],\n",
              "        [ 0.13286358,  0.3452475 ,  0.66217804, -0.00625587,  0.10861969]],\n",
              "       dtype=float32),\n",
              " array([0., 0., 0., 0., 0.], dtype=float32),\n",
              " array([[-0.37083292],\n",
              "        [-0.50570655],\n",
              "        [-0.67208123],\n",
              "        [ 0.6679392 ],\n",
              "        [-0.7754009 ]], dtype=float32),\n",
              " array([0.], dtype=float32)]"
            ]
          },
          "metadata": {},
          "execution_count": 69
        }
      ]
    },
    {
      "cell_type": "markdown",
      "source": [
        "Training the Model"
      ],
      "metadata": {
        "id": "vvU1yDRByPrw"
      }
    },
    {
      "cell_type": "code",
      "source": [
        "history = model.fit(X_train_std, y_train, epochs=100, batch_size=16, validation_data=(X_test_std, y_test))"
      ],
      "metadata": {
        "colab": {
          "base_uri": "https://localhost:8080/"
        },
        "id": "IddaZ8gjyKdw",
        "outputId": "31327a54-e5d2-41dd-8524-f189d43d842e"
      },
      "execution_count": 70,
      "outputs": [
        {
          "output_type": "stream",
          "name": "stdout",
          "text": [
            "Epoch 1/100\n",
            "5/5 [==============================] - 1s 51ms/step - loss: 0.9015 - accuracy: 0.5000 - val_loss: 0.8852 - val_accuracy: 0.5000\n",
            "Epoch 2/100\n",
            "5/5 [==============================] - 0s 16ms/step - loss: 0.8911 - accuracy: 0.5000 - val_loss: 0.8746 - val_accuracy: 0.5000\n",
            "Epoch 3/100\n",
            "5/5 [==============================] - 0s 16ms/step - loss: 0.8806 - accuracy: 0.5000 - val_loss: 0.8644 - val_accuracy: 0.5000\n",
            "Epoch 4/100\n",
            "5/5 [==============================] - 0s 13ms/step - loss: 0.8700 - accuracy: 0.5000 - val_loss: 0.8546 - val_accuracy: 0.5000\n",
            "Epoch 5/100\n",
            "5/5 [==============================] - 0s 15ms/step - loss: 0.8604 - accuracy: 0.5000 - val_loss: 0.8450 - val_accuracy: 0.5000\n",
            "Epoch 6/100\n",
            "5/5 [==============================] - 0s 15ms/step - loss: 0.8507 - accuracy: 0.5000 - val_loss: 0.8355 - val_accuracy: 0.5000\n",
            "Epoch 7/100\n",
            "5/5 [==============================] - 0s 12ms/step - loss: 0.8409 - accuracy: 0.5000 - val_loss: 0.8263 - val_accuracy: 0.5000\n",
            "Epoch 8/100\n",
            "5/5 [==============================] - 0s 16ms/step - loss: 0.8324 - accuracy: 0.5000 - val_loss: 0.8167 - val_accuracy: 0.5000\n",
            "Epoch 9/100\n",
            "5/5 [==============================] - 0s 12ms/step - loss: 0.8230 - accuracy: 0.5000 - val_loss: 0.8076 - val_accuracy: 0.5000\n",
            "Epoch 10/100\n",
            "5/5 [==============================] - 0s 11ms/step - loss: 0.8136 - accuracy: 0.5000 - val_loss: 0.7986 - val_accuracy: 0.5000\n",
            "Epoch 11/100\n",
            "5/5 [==============================] - 0s 16ms/step - loss: 0.8053 - accuracy: 0.5000 - val_loss: 0.7899 - val_accuracy: 0.5000\n",
            "Epoch 12/100\n",
            "5/5 [==============================] - 0s 12ms/step - loss: 0.7962 - accuracy: 0.5000 - val_loss: 0.7819 - val_accuracy: 0.5000\n",
            "Epoch 13/100\n",
            "5/5 [==============================] - 0s 15ms/step - loss: 0.7878 - accuracy: 0.5000 - val_loss: 0.7741 - val_accuracy: 0.5000\n",
            "Epoch 14/100\n",
            "5/5 [==============================] - 0s 13ms/step - loss: 0.7802 - accuracy: 0.5000 - val_loss: 0.7662 - val_accuracy: 0.5000\n",
            "Epoch 15/100\n",
            "5/5 [==============================] - 0s 12ms/step - loss: 0.7727 - accuracy: 0.5000 - val_loss: 0.7583 - val_accuracy: 0.5000\n",
            "Epoch 16/100\n",
            "5/5 [==============================] - 0s 11ms/step - loss: 0.7648 - accuracy: 0.5000 - val_loss: 0.7507 - val_accuracy: 0.5000\n",
            "Epoch 17/100\n",
            "5/5 [==============================] - 0s 11ms/step - loss: 0.7572 - accuracy: 0.5000 - val_loss: 0.7435 - val_accuracy: 0.5000\n",
            "Epoch 18/100\n",
            "5/5 [==============================] - 0s 16ms/step - loss: 0.7500 - accuracy: 0.5000 - val_loss: 0.7363 - val_accuracy: 0.5000\n",
            "Epoch 19/100\n",
            "5/5 [==============================] - 0s 17ms/step - loss: 0.7429 - accuracy: 0.5000 - val_loss: 0.7291 - val_accuracy: 0.5000\n",
            "Epoch 20/100\n",
            "5/5 [==============================] - 0s 17ms/step - loss: 0.7356 - accuracy: 0.5000 - val_loss: 0.7223 - val_accuracy: 0.5000\n",
            "Epoch 21/100\n",
            "5/5 [==============================] - 0s 12ms/step - loss: 0.7291 - accuracy: 0.5000 - val_loss: 0.7155 - val_accuracy: 0.5000\n",
            "Epoch 22/100\n",
            "5/5 [==============================] - 0s 12ms/step - loss: 0.7225 - accuracy: 0.5000 - val_loss: 0.7089 - val_accuracy: 0.5000\n",
            "Epoch 23/100\n",
            "5/5 [==============================] - 0s 16ms/step - loss: 0.7160 - accuracy: 0.5000 - val_loss: 0.7028 - val_accuracy: 0.5000\n",
            "Epoch 24/100\n",
            "5/5 [==============================] - 0s 11ms/step - loss: 0.7099 - accuracy: 0.5000 - val_loss: 0.6967 - val_accuracy: 0.5000\n",
            "Epoch 25/100\n",
            "5/5 [==============================] - 0s 16ms/step - loss: 0.7037 - accuracy: 0.5000 - val_loss: 0.6907 - val_accuracy: 0.5000\n",
            "Epoch 26/100\n",
            "5/5 [==============================] - 0s 16ms/step - loss: 0.6977 - accuracy: 0.5000 - val_loss: 0.6846 - val_accuracy: 0.5000\n",
            "Epoch 27/100\n",
            "5/5 [==============================] - 0s 23ms/step - loss: 0.6918 - accuracy: 0.5000 - val_loss: 0.6786 - val_accuracy: 0.5000\n",
            "Epoch 28/100\n",
            "5/5 [==============================] - 0s 27ms/step - loss: 0.6860 - accuracy: 0.5000 - val_loss: 0.6728 - val_accuracy: 0.5000\n",
            "Epoch 29/100\n",
            "5/5 [==============================] - 0s 17ms/step - loss: 0.6799 - accuracy: 0.5000 - val_loss: 0.6671 - val_accuracy: 0.5000\n",
            "Epoch 30/100\n",
            "5/5 [==============================] - 0s 17ms/step - loss: 0.6744 - accuracy: 0.5000 - val_loss: 0.6614 - val_accuracy: 0.5000\n",
            "Epoch 31/100\n",
            "5/5 [==============================] - 0s 17ms/step - loss: 0.6689 - accuracy: 0.5000 - val_loss: 0.6558 - val_accuracy: 0.5000\n",
            "Epoch 32/100\n",
            "5/5 [==============================] - 0s 16ms/step - loss: 0.6632 - accuracy: 0.5000 - val_loss: 0.6503 - val_accuracy: 0.5000\n",
            "Epoch 33/100\n",
            "5/5 [==============================] - 0s 17ms/step - loss: 0.6579 - accuracy: 0.5000 - val_loss: 0.6450 - val_accuracy: 0.5000\n",
            "Epoch 34/100\n",
            "5/5 [==============================] - 0s 26ms/step - loss: 0.6524 - accuracy: 0.5143 - val_loss: 0.6397 - val_accuracy: 0.5000\n",
            "Epoch 35/100\n",
            "5/5 [==============================] - 0s 21ms/step - loss: 0.6472 - accuracy: 0.5286 - val_loss: 0.6345 - val_accuracy: 0.5000\n",
            "Epoch 36/100\n",
            "5/5 [==============================] - 0s 20ms/step - loss: 0.6425 - accuracy: 0.5429 - val_loss: 0.6293 - val_accuracy: 0.5000\n",
            "Epoch 37/100\n",
            "5/5 [==============================] - 0s 21ms/step - loss: 0.6372 - accuracy: 0.5714 - val_loss: 0.6245 - val_accuracy: 0.5333\n",
            "Epoch 38/100\n",
            "5/5 [==============================] - 0s 25ms/step - loss: 0.6322 - accuracy: 0.5857 - val_loss: 0.6198 - val_accuracy: 0.6000\n",
            "Epoch 39/100\n",
            "5/5 [==============================] - 0s 19ms/step - loss: 0.6274 - accuracy: 0.6000 - val_loss: 0.6151 - val_accuracy: 0.6333\n",
            "Epoch 40/100\n",
            "5/5 [==============================] - 0s 20ms/step - loss: 0.6230 - accuracy: 0.6143 - val_loss: 0.6103 - val_accuracy: 0.6667\n",
            "Epoch 41/100\n",
            "5/5 [==============================] - 0s 16ms/step - loss: 0.6180 - accuracy: 0.6286 - val_loss: 0.6056 - val_accuracy: 0.6667\n",
            "Epoch 42/100\n",
            "5/5 [==============================] - 0s 19ms/step - loss: 0.6137 - accuracy: 0.6286 - val_loss: 0.6009 - val_accuracy: 0.6667\n",
            "Epoch 43/100\n",
            "5/5 [==============================] - 0s 19ms/step - loss: 0.6088 - accuracy: 0.6571 - val_loss: 0.5963 - val_accuracy: 0.6667\n",
            "Epoch 44/100\n",
            "5/5 [==============================] - 0s 19ms/step - loss: 0.6043 - accuracy: 0.6857 - val_loss: 0.5919 - val_accuracy: 0.6667\n",
            "Epoch 45/100\n",
            "5/5 [==============================] - 0s 20ms/step - loss: 0.5999 - accuracy: 0.6857 - val_loss: 0.5874 - val_accuracy: 0.6667\n",
            "Epoch 46/100\n",
            "5/5 [==============================] - 0s 22ms/step - loss: 0.5958 - accuracy: 0.7000 - val_loss: 0.5831 - val_accuracy: 0.6667\n",
            "Epoch 47/100\n",
            "5/5 [==============================] - 0s 21ms/step - loss: 0.5914 - accuracy: 0.7143 - val_loss: 0.5789 - val_accuracy: 0.7333\n",
            "Epoch 48/100\n",
            "5/5 [==============================] - 0s 19ms/step - loss: 0.5872 - accuracy: 0.7429 - val_loss: 0.5747 - val_accuracy: 0.8000\n",
            "Epoch 49/100\n",
            "5/5 [==============================] - 0s 20ms/step - loss: 0.5832 - accuracy: 0.7571 - val_loss: 0.5707 - val_accuracy: 0.8000\n",
            "Epoch 50/100\n",
            "5/5 [==============================] - 0s 21ms/step - loss: 0.5791 - accuracy: 0.7571 - val_loss: 0.5667 - val_accuracy: 0.8000\n",
            "Epoch 51/100\n",
            "5/5 [==============================] - 0s 25ms/step - loss: 0.5753 - accuracy: 0.7571 - val_loss: 0.5627 - val_accuracy: 0.8333\n",
            "Epoch 52/100\n",
            "5/5 [==============================] - 0s 17ms/step - loss: 0.5712 - accuracy: 0.7714 - val_loss: 0.5587 - val_accuracy: 0.8667\n",
            "Epoch 53/100\n",
            "5/5 [==============================] - 0s 22ms/step - loss: 0.5674 - accuracy: 0.7857 - val_loss: 0.5547 - val_accuracy: 0.9000\n",
            "Epoch 54/100\n",
            "5/5 [==============================] - 0s 20ms/step - loss: 0.5634 - accuracy: 0.7857 - val_loss: 0.5508 - val_accuracy: 0.9000\n",
            "Epoch 55/100\n",
            "5/5 [==============================] - 0s 17ms/step - loss: 0.5597 - accuracy: 0.8286 - val_loss: 0.5468 - val_accuracy: 0.9000\n",
            "Epoch 56/100\n",
            "5/5 [==============================] - 0s 20ms/step - loss: 0.5558 - accuracy: 0.8429 - val_loss: 0.5429 - val_accuracy: 0.9000\n",
            "Epoch 57/100\n",
            "5/5 [==============================] - 0s 16ms/step - loss: 0.5518 - accuracy: 0.8714 - val_loss: 0.5391 - val_accuracy: 0.9333\n",
            "Epoch 58/100\n",
            "5/5 [==============================] - 0s 16ms/step - loss: 0.5482 - accuracy: 0.8714 - val_loss: 0.5352 - val_accuracy: 0.9333\n",
            "Epoch 59/100\n",
            "5/5 [==============================] - 0s 13ms/step - loss: 0.5444 - accuracy: 0.8714 - val_loss: 0.5314 - val_accuracy: 0.9667\n",
            "Epoch 60/100\n",
            "5/5 [==============================] - 0s 12ms/step - loss: 0.5406 - accuracy: 0.8857 - val_loss: 0.5277 - val_accuracy: 1.0000\n",
            "Epoch 61/100\n",
            "5/5 [==============================] - 0s 15ms/step - loss: 0.5369 - accuracy: 0.9000 - val_loss: 0.5240 - val_accuracy: 1.0000\n",
            "Epoch 62/100\n",
            "5/5 [==============================] - 0s 12ms/step - loss: 0.5332 - accuracy: 0.9000 - val_loss: 0.5203 - val_accuracy: 1.0000\n",
            "Epoch 63/100\n",
            "5/5 [==============================] - 0s 11ms/step - loss: 0.5296 - accuracy: 0.9143 - val_loss: 0.5166 - val_accuracy: 1.0000\n",
            "Epoch 64/100\n",
            "5/5 [==============================] - 0s 16ms/step - loss: 0.5260 - accuracy: 0.9143 - val_loss: 0.5130 - val_accuracy: 1.0000\n",
            "Epoch 65/100\n",
            "5/5 [==============================] - 0s 12ms/step - loss: 0.5224 - accuracy: 0.9286 - val_loss: 0.5094 - val_accuracy: 1.0000\n",
            "Epoch 66/100\n",
            "5/5 [==============================] - 0s 16ms/step - loss: 0.5188 - accuracy: 0.9286 - val_loss: 0.5057 - val_accuracy: 1.0000\n",
            "Epoch 67/100\n",
            "5/5 [==============================] - 0s 15ms/step - loss: 0.5152 - accuracy: 0.9286 - val_loss: 0.5021 - val_accuracy: 1.0000\n",
            "Epoch 68/100\n",
            "5/5 [==============================] - 0s 13ms/step - loss: 0.5117 - accuracy: 0.9286 - val_loss: 0.4986 - val_accuracy: 1.0000\n",
            "Epoch 69/100\n",
            "5/5 [==============================] - 0s 12ms/step - loss: 0.5081 - accuracy: 0.9286 - val_loss: 0.4950 - val_accuracy: 1.0000\n",
            "Epoch 70/100\n",
            "5/5 [==============================] - 0s 17ms/step - loss: 0.5046 - accuracy: 0.9286 - val_loss: 0.4915 - val_accuracy: 1.0000\n",
            "Epoch 71/100\n",
            "5/5 [==============================] - 0s 16ms/step - loss: 0.5013 - accuracy: 0.9286 - val_loss: 0.4880 - val_accuracy: 1.0000\n",
            "Epoch 72/100\n",
            "5/5 [==============================] - 0s 19ms/step - loss: 0.4978 - accuracy: 0.9429 - val_loss: 0.4845 - val_accuracy: 1.0000\n",
            "Epoch 73/100\n",
            "5/5 [==============================] - 0s 15ms/step - loss: 0.4945 - accuracy: 0.9714 - val_loss: 0.4810 - val_accuracy: 1.0000\n",
            "Epoch 74/100\n",
            "5/5 [==============================] - 0s 16ms/step - loss: 0.4910 - accuracy: 0.9714 - val_loss: 0.4776 - val_accuracy: 1.0000\n",
            "Epoch 75/100\n",
            "5/5 [==============================] - 0s 18ms/step - loss: 0.4876 - accuracy: 0.9714 - val_loss: 0.4742 - val_accuracy: 1.0000\n",
            "Epoch 76/100\n",
            "5/5 [==============================] - 0s 16ms/step - loss: 0.4842 - accuracy: 0.9857 - val_loss: 0.4708 - val_accuracy: 1.0000\n",
            "Epoch 77/100\n",
            "5/5 [==============================] - 0s 15ms/step - loss: 0.4809 - accuracy: 0.9857 - val_loss: 0.4674 - val_accuracy: 1.0000\n",
            "Epoch 78/100\n",
            "5/5 [==============================] - 0s 14ms/step - loss: 0.4775 - accuracy: 0.9857 - val_loss: 0.4641 - val_accuracy: 1.0000\n",
            "Epoch 79/100\n",
            "5/5 [==============================] - 0s 12ms/step - loss: 0.4743 - accuracy: 0.9857 - val_loss: 0.4608 - val_accuracy: 1.0000\n",
            "Epoch 80/100\n",
            "5/5 [==============================] - 0s 12ms/step - loss: 0.4711 - accuracy: 0.9857 - val_loss: 0.4575 - val_accuracy: 1.0000\n",
            "Epoch 81/100\n",
            "5/5 [==============================] - 0s 16ms/step - loss: 0.4678 - accuracy: 0.9857 - val_loss: 0.4542 - val_accuracy: 1.0000\n",
            "Epoch 82/100\n",
            "5/5 [==============================] - 0s 11ms/step - loss: 0.4646 - accuracy: 0.9857 - val_loss: 0.4510 - val_accuracy: 1.0000\n",
            "Epoch 83/100\n",
            "5/5 [==============================] - 0s 16ms/step - loss: 0.4614 - accuracy: 0.9857 - val_loss: 0.4477 - val_accuracy: 1.0000\n",
            "Epoch 84/100\n",
            "5/5 [==============================] - 0s 15ms/step - loss: 0.4583 - accuracy: 0.9857 - val_loss: 0.4445 - val_accuracy: 1.0000\n",
            "Epoch 85/100\n",
            "5/5 [==============================] - 0s 15ms/step - loss: 0.4551 - accuracy: 0.9857 - val_loss: 0.4413 - val_accuracy: 1.0000\n",
            "Epoch 86/100\n",
            "5/5 [==============================] - 0s 11ms/step - loss: 0.4520 - accuracy: 0.9857 - val_loss: 0.4381 - val_accuracy: 1.0000\n",
            "Epoch 87/100\n",
            "5/5 [==============================] - 0s 18ms/step - loss: 0.4489 - accuracy: 0.9857 - val_loss: 0.4350 - val_accuracy: 1.0000\n",
            "Epoch 88/100\n",
            "5/5 [==============================] - 0s 13ms/step - loss: 0.4457 - accuracy: 0.9857 - val_loss: 0.4318 - val_accuracy: 1.0000\n",
            "Epoch 89/100\n",
            "5/5 [==============================] - 0s 12ms/step - loss: 0.4426 - accuracy: 1.0000 - val_loss: 0.4286 - val_accuracy: 1.0000\n",
            "Epoch 90/100\n",
            "5/5 [==============================] - 0s 16ms/step - loss: 0.4395 - accuracy: 1.0000 - val_loss: 0.4255 - val_accuracy: 1.0000\n",
            "Epoch 91/100\n",
            "5/5 [==============================] - 0s 12ms/step - loss: 0.4365 - accuracy: 1.0000 - val_loss: 0.4224 - val_accuracy: 1.0000\n",
            "Epoch 92/100\n",
            "5/5 [==============================] - 0s 12ms/step - loss: 0.4334 - accuracy: 1.0000 - val_loss: 0.4193 - val_accuracy: 1.0000\n",
            "Epoch 93/100\n",
            "5/5 [==============================] - 0s 18ms/step - loss: 0.4303 - accuracy: 1.0000 - val_loss: 0.4161 - val_accuracy: 1.0000\n",
            "Epoch 94/100\n",
            "5/5 [==============================] - 0s 17ms/step - loss: 0.4273 - accuracy: 1.0000 - val_loss: 0.4131 - val_accuracy: 1.0000\n",
            "Epoch 95/100\n",
            "5/5 [==============================] - 0s 11ms/step - loss: 0.4243 - accuracy: 1.0000 - val_loss: 0.4100 - val_accuracy: 1.0000\n",
            "Epoch 96/100\n",
            "5/5 [==============================] - 0s 16ms/step - loss: 0.4212 - accuracy: 1.0000 - val_loss: 0.4070 - val_accuracy: 1.0000\n",
            "Epoch 97/100\n",
            "5/5 [==============================] - 0s 17ms/step - loss: 0.4183 - accuracy: 1.0000 - val_loss: 0.4039 - val_accuracy: 1.0000\n",
            "Epoch 98/100\n",
            "5/5 [==============================] - 0s 12ms/step - loss: 0.4153 - accuracy: 1.0000 - val_loss: 0.4009 - val_accuracy: 1.0000\n",
            "Epoch 99/100\n",
            "5/5 [==============================] - 0s 16ms/step - loss: 0.4123 - accuracy: 1.0000 - val_loss: 0.3979 - val_accuracy: 1.0000\n",
            "Epoch 100/100\n",
            "5/5 [==============================] - 0s 16ms/step - loss: 0.4094 - accuracy: 1.0000 - val_loss: 0.3949 - val_accuracy: 1.0000\n"
          ]
        }
      ]
    },
    {
      "cell_type": "markdown",
      "source": [
        "Post Training - what are the Weights and Biases"
      ],
      "metadata": {
        "id": "t4MbUH2qybH2"
      }
    },
    {
      "cell_type": "code",
      "source": [
        "weights = model.get_weights()"
      ],
      "metadata": {
        "id": "_y3AMLeeyVL-"
      },
      "execution_count": 71,
      "outputs": []
    },
    {
      "cell_type": "code",
      "source": [
        "weights"
      ],
      "metadata": {
        "colab": {
          "base_uri": "https://localhost:8080/"
        },
        "id": "mr2YpiXlyc7J",
        "outputId": "eb918b18-d73b-4f67-c367-079c364e8fd8"
      },
      "execution_count": 72,
      "outputs": [
        {
          "output_type": "execute_result",
          "data": {
            "text/plain": [
              "[array([[-1.0878633 , -0.63647777, -1.1190956 ,  0.87279606,  0.24849488],\n",
              "        [-0.04676543,  1.1558973 , -0.34028977, -0.8088316 ,  0.3095757 ],\n",
              "        [ 0.13066559,  0.13995801, -0.5738691 ,  0.434086  ,  0.27018437],\n",
              "        [-0.25569016, -0.07722434,  0.25471234,  0.41869545, -0.34295076]],\n",
              "       dtype=float32),\n",
              " array([-0.1676912 , -0.18025722, -0.17908652,  0.15724522, -0.22364296],\n",
              "       dtype=float32),\n",
              " array([[-0.30106604],\n",
              "        [-0.57735366],\n",
              "        [-0.58722484],\n",
              "        [ 1.0992548 ],\n",
              "        [-0.52355176]], dtype=float32),\n",
              " array([0.2092101], dtype=float32)]"
            ]
          },
          "metadata": {},
          "execution_count": 72
        }
      ]
    },
    {
      "cell_type": "markdown",
      "source": [
        "Ploting Loss/Accuracy Curve for Training and Validation Data"
      ],
      "metadata": {
        "id": "grTwRynHyhKm"
      }
    },
    {
      "cell_type": "code",
      "source": [
        "from keras.utils import plot_model\n",
        "import matplotlib.pyplot as plt"
      ],
      "metadata": {
        "id": "z4oO4i73yeG1"
      },
      "execution_count": 73,
      "outputs": []
    },
    {
      "cell_type": "code",
      "source": [
        "# Plot Loss/Accuracy Profile of the model on Training Data\n",
        "plt.figure(figsize=(12,10))\n",
        "plt.subplot(211)\n",
        "plt.title('Loss-Accuracy on Training Data')\n",
        "plt.plot(history.history['loss'], label='loss')\n",
        "plt.plot(history.history['accuracy'], label='accuracy')\n",
        "plt.legend()"
      ],
      "metadata": {
        "colab": {
          "base_uri": "https://localhost:8080/",
          "height": 328
        },
        "id": "eeyuoSKyyk9F",
        "outputId": "5756a94e-0c97-4e62-db04-a7f437db8de2"
      },
      "execution_count": 74,
      "outputs": [
        {
          "output_type": "execute_result",
          "data": {
            "text/plain": [
              "<matplotlib.legend.Legend at 0x7f3520088460>"
            ]
          },
          "metadata": {},
          "execution_count": 74
        },
        {
          "output_type": "display_data",
          "data": {
            "text/plain": [
              "<Figure size 864x720 with 1 Axes>"
            ],
            "image/png": "[encoded data removed]"
          },
          "metadata": {
            "needs_background": "light"
          }
        }
      ]
    },
    {
      "cell_type": "markdown",
      "source": [
        "Test Dataset/Making predictions"
      ],
      "metadata": {
        "id": "axr2Kxy6yuZz"
      }
    },
    {
      "cell_type": "code",
      "source": [
        "# Actual predictions from the ANN are number between 0 and 1 (output of the Sigmoid activation)\n",
        "pred = model.predict(X_test_std)\n",
        "print(pred)"
      ],
      "metadata": {
        "colab": {
          "base_uri": "https://localhost:8080/"
        },
        "id": "bx7VJxnOymmB",
        "outputId": "c032ea0e-64a1-4feb-c8ba-fdc4d54421b4"
      },
      "execution_count": 75,
      "outputs": [
        {
          "output_type": "stream",
          "name": "stdout",
          "text": [
            "1/1 [==============================] - 0s 69ms/step\n",
            "[[0.68144155]\n",
            " [0.67753685]\n",
            " [0.29166517]\n",
            " [0.35729983]\n",
            " [0.2720718 ]\n",
            " [0.6457246 ]\n",
            " [0.6309964 ]\n",
            " [0.27807426]\n",
            " [0.31535396]\n",
            " [0.2532819 ]\n",
            " [0.3304473 ]\n",
            " [0.28219086]\n",
            " [0.29985517]\n",
            " [0.62396634]\n",
            " [0.69996   ]\n",
            " [0.597586  ]\n",
            " [0.624441  ]\n",
            " [0.63176084]\n",
            " [0.30729926]\n",
            " [0.5748519 ]\n",
            " [0.30803126]\n",
            " [0.30494335]\n",
            " [0.29505786]\n",
            " [0.6882024 ]\n",
            " [0.681705  ]\n",
            " [0.6193893 ]\n",
            " [0.68570405]\n",
            " [0.2692031 ]\n",
            " [0.25956482]\n",
            " [0.6171059 ]]\n"
          ]
        }
      ]
    },
    {
      "cell_type": "markdown",
      "source": [
        "Threshold the predictions to get binary output values 0/1"
      ],
      "metadata": {
        "id": "_y-m0Apcy2PJ"
      }
    },
    {
      "cell_type": "code",
      "source": [
        "r,c = pred.shape\n",
        "\n",
        "pred1 = np.zeros(r, dtype = int)\n",
        "\n",
        "# with sigmoid output activation for binary classification\n",
        "for i in range(r):\n",
        " if pred[i] > 0.5:  # 0.5 is the threshold\n",
        "  pred1[i] = 1 \n",
        " else: \n",
        "  pred1[i] = 0 "
      ],
      "metadata": {
        "id": "oMbpOO_xyyUC"
      },
      "execution_count": 76,
      "outputs": []
    },
    {
      "cell_type": "code",
      "source": [
        "print('\\n Actual class labels : \\n', y_test)\n",
        "print('\\n Predictions made by the MLP : \\n', pred1)"
      ],
      "metadata": {
        "colab": {
          "base_uri": "https://localhost:8080/"
        },
        "id": "uFDLNUT9y6wm",
        "outputId": "1c8cd3c5-7e2b-48fa-a3b1-1a6246211e8e"
      },
      "execution_count": 77,
      "outputs": [
        {
          "output_type": "stream",
          "name": "stdout",
          "text": [
            "\n",
            " Actual class labels : \n",
            " [1 1 0 0 0 1 1 0 0 0 0 0 0 1 1 1 1 1 0 1 0 0 0 1 1 1 1 0 0 1]\n",
            "\n",
            " Predictions made by the MLP : \n",
            " [1 1 0 0 0 1 1 0 0 0 0 0 0 1 1 1 1 1 0 1 0 0 0 1 1 1 1 0 0 1]\n"
          ]
        }
      ]
    },
    {
      "cell_type": "markdown",
      "source": [
        "Classification Metrics"
      ],
      "metadata": {
        "id": "Kp3ZWLtjzu-i"
      }
    },
    {
      "cell_type": "code",
      "source": [
        "from sklearn.metrics import accuracy_score, classification_report, confusion_matrix"
      ],
      "metadata": {
        "id": "9xS5kJoGzJMh"
      },
      "execution_count": 78,
      "outputs": []
    },
    {
      "cell_type": "markdown",
      "source": [
        "Accuracy"
      ],
      "metadata": {
        "id": "rSZol11uzycY"
      }
    },
    {
      "cell_type": "code",
      "source": [
        "acc = accuracy_score(y_test, pred1) \n",
        "print(\" Accuracy = \", round(acc *100, 2) , '%')"
      ],
      "metadata": {
        "colab": {
          "base_uri": "https://localhost:8080/"
        },
        "id": "IV5DyzAzze51",
        "outputId": "afd6b6bc-e0ef-42f8-dacc-6b7a95d74f80"
      },
      "execution_count": 79,
      "outputs": [
        {
          "output_type": "stream",
          "name": "stdout",
          "text": [
            " Accuracy =  100.0 %\n"
          ]
        }
      ]
    },
    {
      "cell_type": "markdown",
      "source": [
        "Classification Report"
      ],
      "metadata": {
        "id": "tbbK6Ds9z266"
      }
    },
    {
      "cell_type": "code",
      "source": [
        "print(classification_report (y_test, pred1))"
      ],
      "metadata": {
        "colab": {
          "base_uri": "https://localhost:8080/"
        },
        "id": "ngrBFu0Az0tT",
        "outputId": "fded3401-ee33-4685-d7b6-7b9ad2fb9f00"
      },
      "execution_count": 80,
      "outputs": [
        {
          "output_type": "stream",
          "name": "stdout",
          "text": [
            "              precision    recall  f1-score   support\n",
            "\n",
            "           0       1.00      1.00      1.00        15\n",
            "           1       1.00      1.00      1.00        15\n",
            "\n",
            "    accuracy                           1.00        30\n",
            "   macro avg       1.00      1.00      1.00        30\n",
            "weighted avg       1.00      1.00      1.00        30\n",
            "\n"
          ]
        }
      ]
    },
    {
      "cell_type": "markdown",
      "source": [
        "Confusion Matrix"
      ],
      "metadata": {
        "id": "TVgnNdY10NiO"
      }
    },
    {
      "cell_type": "code",
      "source": [
        "print(confusion_matrix (y_test, pred1))"
      ],
      "metadata": {
        "colab": {
          "base_uri": "https://localhost:8080/"
        },
        "id": "onpLULaaz6Xo",
        "outputId": "beff8db7-9ae6-4e93-f8b5-3f3cedfda0d1"
      },
      "execution_count": 81,
      "outputs": [
        {
          "output_type": "stream",
          "name": "stdout",
          "text": [
            "[[15  0]\n",
            " [ 0 15]]\n"
          ]
        }
      ]
    },
    {
      "cell_type": "markdown",
      "source": [
        "Evaluate the Model on Test Set"
      ],
      "metadata": {
        "id": "pLWn5wuX0R8y"
      }
    },
    {
      "cell_type": "code",
      "source": [
        "results = model.evaluate(X_test_std, y_test)\n",
        "\n",
        "print('Final test set loss: {:4f}'.format(results[0]))\n",
        "print('Final test set accuracy: {:4f}'.format(results[1]))"
      ],
      "metadata": {
        "colab": {
          "base_uri": "https://localhost:8080/"
        },
        "id": "CBZ2JHUH0QkU",
        "outputId": "a27e2b46-fbad-4828-e526-df4f48d692ef"
      },
      "execution_count": 82,
      "outputs": [
        {
          "output_type": "stream",
          "name": "stdout",
          "text": [
            "1/1 [==============================] - 0s 59ms/step - loss: 0.3949 - accuracy: 1.0000\n",
            "Final test set loss: 0.394896\n",
            "Final test set accuracy: 1.000000\n"
          ]
        }
      ]
    },
    {
      "cell_type": "markdown",
      "source": [
        "Verifying the Output with Individual Sample"
      ],
      "metadata": {
        "id": "5xY-ZgO13Crf"
      }
    },
    {
      "cell_type": "code",
      "source": [
        "idx = 10 # Index of a data sample present in the Test set\n",
        "\n",
        "indvidual_test_sample = X_test_std[idx,:].reshape(1, 4)\n",
        "print('\\n Input sample Original : ' , X_test.iloc[10].values.reshape(1,4))\n",
        "print('\\n Input sample Standardize : ' , indvidual_test_sample )"
      ],
      "metadata": {
        "colab": {
          "base_uri": "https://localhost:8080/"
        },
        "id": "kv6v8GLG0YzA",
        "outputId": "46b01ae1-f01a-4768-d3d1-19a798adef14"
      },
      "execution_count": 106,
      "outputs": [
        {
          "output_type": "stream",
          "name": "stdout",
          "text": [
            "\n",
            " Input sample Original :  [[0.22222222 0.54166667 0.11864407 0.16666667]]\n",
            "\n",
            " Input sample Standardize :  [[-0.57303721  0.39221547 -0.80606545 -0.5162185 ]]\n"
          ]
        }
      ]
    },
    {
      "cell_type": "code",
      "source": [
        "pred = model.predict(indvidual_test_sample)\n",
        "print('\\n Predicted value : ', pred)\n",
        "\n",
        "if pred > 0.5:\n",
        "   pred1 = 1\n",
        "else:\n",
        "   pred1 = 0\n",
        "\n",
        "print('\\n Predicted label by the model : ', pred1)\n",
        "\n",
        "print('\\n True/Actual Label : ', y_test[idx])"
      ],
      "metadata": {
        "colab": {
          "base_uri": "https://localhost:8080/"
        },
        "id": "5a5Ls1-p4Qy2",
        "outputId": "d3bcda7d-a412-4ba7-a68d-2e776ebd6acf"
      },
      "execution_count": 107,
      "outputs": [
        {
          "output_type": "stream",
          "name": "stdout",
          "text": [
            "1/1 [==============================] - 0s 27ms/step\n",
            "\n",
            " Predicted value :  [[0.3304473]]\n",
            "\n",
            " Predicted label by the model :  0\n",
            "\n",
            " True/Actual Label :  0\n"
          ]
        }
      ]
    },
    {
      "cell_type": "markdown",
      "source": [
        "Extracting the Activations of the Neurons from an arbitrary Layer of the MLP"
      ],
      "metadata": {
        "id": "9ZKz9B135gxr"
      }
    },
    {
      "cell_type": "markdown",
      "source": [
        "Custom Feature Extractor"
      ],
      "metadata": {
        "id": "FEjuRoZj5kJD"
      }
    },
    {
      "cell_type": "code",
      "source": [
        "# Output activations from the first hidden layer\n",
        "h1 = model.get_layer(index=0)\n",
        "#h1.output\n",
        "# Output activations from the output layer\n",
        "h2 = model.get_layer(index=1)\n",
        "#h2.output\n",
        "\n",
        "# Custom Feature Extractor\n",
        "mlp_activations_extractor = Model(inputs=model.input, outputs=[h1.output, h2.output])\n",
        "\n",
        "# Pass an input through the feature extractor and get the activations from the various layers\n",
        "out = mlp_activations_extractor(indvidual_test_sample)\n",
        "\n",
        "out"
      ],
      "metadata": {
        "colab": {
          "base_uri": "https://localhost:8080/"
        },
        "id": "9-25h6p95MSK",
        "outputId": "9937ab23-536f-46ba-a05c-83313521db9f"
      },
      "execution_count": 111,
      "outputs": [
        {
          "output_type": "execute_result",
          "data": {
            "text/plain": [
              "[<tf.Tensor: shape=(1, 5), dtype=float32, numpy=\n",
              " array([[0.6139673 , 0.6375805 , 0.6592197 , 0.22685146, 0.4291382 ]],\n",
              "       dtype=float32)>,\n",
              " <tf.Tensor: shape=(1, 1), dtype=float32, numpy=array([[0.3304473]], dtype=float32)>]"
            ]
          },
          "metadata": {},
          "execution_count": 111
        }
      ]
    },
    {
      "cell_type": "markdown",
      "source": [
        "Verify the output of the MLP Step-by-Step"
      ],
      "metadata": {
        "id": "zSu3lhB96Li2"
      }
    },
    {
      "cell_type": "markdown",
      "source": [
        "Verify the Output Generated by the MLP - Step-by-Step\n",
        "Give the new sample as the input to the MLP and compute activations of each neurone."
      ],
      "metadata": {
        "id": "8Pm9Jxtn6Pjo"
      }
    },
    {
      "cell_type": "code",
      "source": [
        "# Define the Activation Functions\n",
        "# ReLU\n",
        "def relu (x):\n",
        "  return np.maximum(0, x)\n",
        "\n",
        "# Sigmoid\n",
        "def sigmoid (x):\n",
        "  z = 1/(1 + np.exp(-x))\n",
        "  return z"
      ],
      "metadata": {
        "id": "itDGSp3d5pCa"
      },
      "execution_count": 112,
      "outputs": []
    },
    {
      "cell_type": "code",
      "source": [
        "# Net input to the neurons of the first hidden layer\n",
        "net_in_h1 = (weights[0]*indvidual_test_sample.T).sum(axis=0) + weights[1]\n",
        "\n",
        "# Output from the neurons of the first hidden layer after passing through the ReLU activation function\n",
        "#out_h1 = relu(net_in_h1) # this is the input vector to the next layer \n",
        "out_h1 = sigmoid(net_in_h1) # this is the input vector to the next layer \n",
        "\n",
        "out_h1 "
      ],
      "metadata": {
        "colab": {
          "base_uri": "https://localhost:8080/"
        },
        "id": "8N36fpbw6Uwl",
        "outputId": "563f9899-777d-4091-daec-a96e77f2154a"
      },
      "execution_count": 114,
      "outputs": [
        {
          "output_type": "execute_result",
          "data": {
            "text/plain": [
              "array([0.61396735, 0.63758054, 0.65921968, 0.22685147, 0.4291382 ])"
            ]
          },
          "metadata": {},
          "execution_count": 114
        }
      ]
    },
    {
      "cell_type": "code",
      "source": [
        "# Net input to the neuron of the output layer\n",
        "net_in_out = np.dot(weights[2].reshape(1,5), out_h1.reshape(5,1)) + weights[3]\n",
        "\n",
        "# Output from the neuron of the output layer after passing through the Sigmoid activation function\n",
        "out_out = sigmoid(net_in_out) \n",
        "\n",
        "out_out"
      ],
      "metadata": {
        "colab": {
          "base_uri": "https://localhost:8080/"
        },
        "id": "BCbkXzNE6fMM",
        "outputId": "06b6da05-fb4a-4097-dbea-0b4f6f5e784e"
      },
      "execution_count": 117,
      "outputs": [
        {
          "output_type": "execute_result",
          "data": {
            "text/plain": [
              "array([[0.33044729]])"
            ]
          },
          "metadata": {},
          "execution_count": 117
        }
      ]
    },
    {
      "cell_type": "code",
      "source": [],
      "metadata": {
        "id": "2KLYcacd6qsB"
      },
      "execution_count": null,
      "outputs": []
    }
  ]
}