{
  "cells": [
    {
      "cell_type": "markdown",
      "id": "12febc77",
      "metadata": {
        "id": "12febc77"
      },
      "source": [
        "#### Multi Layer Perceptron"
      ]
    },
    {
      "cell_type": "markdown",
      "id": "dfb503a7",
      "metadata": {
        "id": "dfb503a7"
      },
      "source": [
        "Predict sepal_length from the rest of the features."
      ]
    },
    {
      "cell_type": "markdown",
      "id": "272f6e10",
      "metadata": {
        "id": "272f6e10"
      },
      "source": [
        "Load IRIS Dataset from Scikitlearn Dataset"
      ]
    },
    {
      "cell_type": "code",
      "execution_count": 1,
      "id": "b4b79ff2",
      "metadata": {
        "id": "b4b79ff2"
      },
      "outputs": [],
      "source": [
        "from sklearn import datasets\n",
        "import numpy as np\n",
        "import pandas as pd"
      ]
    },
    {
      "cell_type": "code",
      "execution_count": 2,
      "id": "b9d9849f",
      "metadata": {
        "id": "b9d9849f"
      },
      "outputs": [],
      "source": [
        "#importing dataset\n",
        "iris = datasets.load_iris()"
      ]
    },
    {
      "cell_type": "code",
      "execution_count": 3,
      "id": "c8ac6a2a",
      "metadata": {
        "colab": {
          "base_uri": "https://localhost:8080/"
        },
        "id": "c8ac6a2a",
        "outputId": "9fbcbd49-ae28-4c53-ebb3-12a866e54e9e"
      },
      "outputs": [
        {
          "output_type": "stream",
          "name": "stdout",
          "text": [
            ".. _iris_dataset:\n",
            "\n",
            "Iris plants dataset\n",
            "--------------------\n",
            "\n",
            "**Data Set Characteristics:**\n",
            "\n",
            "    :Number of Instances: 150 (50 in each of three classes)\n",
            "    :Number of Attributes: 4 numeric, predictive attributes and the class\n",
            "    :Attribute Information:\n",
            "        - sepal length in cm\n",
            "        - sepal width in cm\n",
            "        - petal length in cm\n",
            "        - petal width in cm\n",
            "        - class:\n",
            "                - Iris-Setosa\n",
            "                - Iris-Versicolour\n",
            "                - Iris-Virginica\n",
            "                \n",
            "    :Summary Statistics:\n",
            "\n",
            "    ============== ==== ==== ======= ===== ====================\n",
            "                    Min  Max   Mean    SD   Class Correlation\n",
            "    ============== ==== ==== ======= ===== ====================\n",
            "    sepal length:   4.3  7.9   5.84   0.83    0.7826\n",
            "    sepal width:    2.0  4.4   3.05   0.43   -0.4194\n",
            "    petal length:   1.0  6.9   3.76   1.76    0.9490  (high!)\n",
            "    petal width:    0.1  2.5   1.20   0.76    0.9565  (high!)\n",
            "    ============== ==== ==== ======= ===== ====================\n",
            "\n",
            "    :Missing Attribute Values: None\n",
            "    :Class Distribution: 33.3% for each of 3 classes.\n",
            "    :Creator: R.A. Fisher\n",
            "    :Donor: Michael Marshall (MARSHALL%PLU@io.arc.nasa.gov)\n",
            "    :Date: July, 1988\n",
            "\n",
            "The famous Iris database, first used by Sir R.A. Fisher. The dataset is taken\n",
            "from Fisher's paper. Note that it's the same as in R, but not as in the UCI\n",
            "Machine Learning Repository, which has two wrong data points.\n",
            "\n",
            "This is perhaps the best known database to be found in the\n",
            "pattern recognition literature.  Fisher's paper is a classic in the field and\n",
            "is referenced frequently to this day.  (See Duda & Hart, for example.)  The\n",
            "data set contains 3 classes of 50 instances each, where each class refers to a\n",
            "type of iris plant.  One class is linearly separable from the other 2; the\n",
            "latter are NOT linearly separable from each other.\n",
            "\n",
            ".. topic:: References\n",
            "\n",
            "   - Fisher, R.A. \"The use of multiple measurements in taxonomic problems\"\n",
            "     Annual Eugenics, 7, Part II, 179-188 (1936); also in \"Contributions to\n",
            "     Mathematical Statistics\" (John Wiley, NY, 1950).\n",
            "   - Duda, R.O., & Hart, P.E. (1973) Pattern Classification and Scene Analysis.\n",
            "     (Q327.D83) John Wiley & Sons.  ISBN 0-471-22361-1.  See page 218.\n",
            "   - Dasarathy, B.V. (1980) \"Nosing Around the Neighborhood: A New System\n",
            "     Structure and Classification Rule for Recognition in Partially Exposed\n",
            "     Environments\".  IEEE Transactions on Pattern Analysis and Machine\n",
            "     Intelligence, Vol. PAMI-2, No. 1, 67-71.\n",
            "   - Gates, G.W. (1972) \"The Reduced Nearest Neighbor Rule\".  IEEE Transactions\n",
            "     on Information Theory, May 1972, 431-433.\n",
            "   - See also: 1988 MLC Proceedings, 54-64.  Cheeseman et al\"s AUTOCLASS II\n",
            "     conceptual clustering system finds 3 classes in the data.\n",
            "   - Many, many more ...\n"
          ]
        }
      ],
      "source": [
        "print(iris.DESCR)"
      ]
    },
    {
      "cell_type": "code",
      "execution_count": 4,
      "id": "70965e78",
      "metadata": {
        "colab": {
          "base_uri": "https://localhost:8080/"
        },
        "id": "70965e78",
        "outputId": "489eb1f2-8d59-4356-e645-3801b83090ee"
      },
      "outputs": [
        {
          "output_type": "execute_result",
          "data": {
            "text/plain": [
              "['sepal length (cm)',\n",
              " 'sepal width (cm)',\n",
              " 'petal length (cm)',\n",
              " 'petal width (cm)']"
            ]
          },
          "metadata": {},
          "execution_count": 4
        }
      ],
      "source": [
        "iris.feature_names"
      ]
    },
    {
      "cell_type": "markdown",
      "id": "aa245b73",
      "metadata": {
        "id": "aa245b73"
      },
      "source": [
        "#### Dataset - Features and Target Labels"
      ]
    },
    {
      "cell_type": "code",
      "execution_count": 5,
      "id": "284193e5",
      "metadata": {
        "scrolled": false,
        "colab": {
          "base_uri": "https://localhost:8080/"
        },
        "id": "284193e5",
        "outputId": "34dd242d-f550-49ed-ec56-02d7301a5ec4"
      },
      "outputs": [
        {
          "output_type": "execute_result",
          "data": {
            "text/plain": [
              "array([[5.1, 3.5, 1.4, 0.2],\n",
              "       [4.9, 3. , 1.4, 0.2],\n",
              "       [4.7, 3.2, 1.3, 0.2],\n",
              "       [4.6, 3.1, 1.5, 0.2],\n",
              "       [5. , 3.6, 1.4, 0.2],\n",
              "       [5.4, 3.9, 1.7, 0.4],\n",
              "       [4.6, 3.4, 1.4, 0.3],\n",
              "       [5. , 3.4, 1.5, 0.2],\n",
              "       [4.4, 2.9, 1.4, 0.2],\n",
              "       [4.9, 3.1, 1.5, 0.1],\n",
              "       [5.4, 3.7, 1.5, 0.2],\n",
              "       [4.8, 3.4, 1.6, 0.2],\n",
              "       [4.8, 3. , 1.4, 0.1],\n",
              "       [4.3, 3. , 1.1, 0.1],\n",
              "       [5.8, 4. , 1.2, 0.2],\n",
              "       [5.7, 4.4, 1.5, 0.4],\n",
              "       [5.4, 3.9, 1.3, 0.4],\n",
              "       [5.1, 3.5, 1.4, 0.3],\n",
              "       [5.7, 3.8, 1.7, 0.3],\n",
              "       [5.1, 3.8, 1.5, 0.3],\n",
              "       [5.4, 3.4, 1.7, 0.2],\n",
              "       [5.1, 3.7, 1.5, 0.4],\n",
              "       [4.6, 3.6, 1. , 0.2],\n",
              "       [5.1, 3.3, 1.7, 0.5],\n",
              "       [4.8, 3.4, 1.9, 0.2],\n",
              "       [5. , 3. , 1.6, 0.2],\n",
              "       [5. , 3.4, 1.6, 0.4],\n",
              "       [5.2, 3.5, 1.5, 0.2],\n",
              "       [5.2, 3.4, 1.4, 0.2],\n",
              "       [4.7, 3.2, 1.6, 0.2],\n",
              "       [4.8, 3.1, 1.6, 0.2],\n",
              "       [5.4, 3.4, 1.5, 0.4],\n",
              "       [5.2, 4.1, 1.5, 0.1],\n",
              "       [5.5, 4.2, 1.4, 0.2],\n",
              "       [4.9, 3.1, 1.5, 0.2],\n",
              "       [5. , 3.2, 1.2, 0.2],\n",
              "       [5.5, 3.5, 1.3, 0.2],\n",
              "       [4.9, 3.6, 1.4, 0.1],\n",
              "       [4.4, 3. , 1.3, 0.2],\n",
              "       [5.1, 3.4, 1.5, 0.2],\n",
              "       [5. , 3.5, 1.3, 0.3],\n",
              "       [4.5, 2.3, 1.3, 0.3],\n",
              "       [4.4, 3.2, 1.3, 0.2],\n",
              "       [5. , 3.5, 1.6, 0.6],\n",
              "       [5.1, 3.8, 1.9, 0.4],\n",
              "       [4.8, 3. , 1.4, 0.3],\n",
              "       [5.1, 3.8, 1.6, 0.2],\n",
              "       [4.6, 3.2, 1.4, 0.2],\n",
              "       [5.3, 3.7, 1.5, 0.2],\n",
              "       [5. , 3.3, 1.4, 0.2],\n",
              "       [7. , 3.2, 4.7, 1.4],\n",
              "       [6.4, 3.2, 4.5, 1.5],\n",
              "       [6.9, 3.1, 4.9, 1.5],\n",
              "       [5.5, 2.3, 4. , 1.3],\n",
              "       [6.5, 2.8, 4.6, 1.5],\n",
              "       [5.7, 2.8, 4.5, 1.3],\n",
              "       [6.3, 3.3, 4.7, 1.6],\n",
              "       [4.9, 2.4, 3.3, 1. ],\n",
              "       [6.6, 2.9, 4.6, 1.3],\n",
              "       [5.2, 2.7, 3.9, 1.4],\n",
              "       [5. , 2. , 3.5, 1. ],\n",
              "       [5.9, 3. , 4.2, 1.5],\n",
              "       [6. , 2.2, 4. , 1. ],\n",
              "       [6.1, 2.9, 4.7, 1.4],\n",
              "       [5.6, 2.9, 3.6, 1.3],\n",
              "       [6.7, 3.1, 4.4, 1.4],\n",
              "       [5.6, 3. , 4.5, 1.5],\n",
              "       [5.8, 2.7, 4.1, 1. ],\n",
              "       [6.2, 2.2, 4.5, 1.5],\n",
              "       [5.6, 2.5, 3.9, 1.1],\n",
              "       [5.9, 3.2, 4.8, 1.8],\n",
              "       [6.1, 2.8, 4. , 1.3],\n",
              "       [6.3, 2.5, 4.9, 1.5],\n",
              "       [6.1, 2.8, 4.7, 1.2],\n",
              "       [6.4, 2.9, 4.3, 1.3],\n",
              "       [6.6, 3. , 4.4, 1.4],\n",
              "       [6.8, 2.8, 4.8, 1.4],\n",
              "       [6.7, 3. , 5. , 1.7],\n",
              "       [6. , 2.9, 4.5, 1.5],\n",
              "       [5.7, 2.6, 3.5, 1. ],\n",
              "       [5.5, 2.4, 3.8, 1.1],\n",
              "       [5.5, 2.4, 3.7, 1. ],\n",
              "       [5.8, 2.7, 3.9, 1.2],\n",
              "       [6. , 2.7, 5.1, 1.6],\n",
              "       [5.4, 3. , 4.5, 1.5],\n",
              "       [6. , 3.4, 4.5, 1.6],\n",
              "       [6.7, 3.1, 4.7, 1.5],\n",
              "       [6.3, 2.3, 4.4, 1.3],\n",
              "       [5.6, 3. , 4.1, 1.3],\n",
              "       [5.5, 2.5, 4. , 1.3],\n",
              "       [5.5, 2.6, 4.4, 1.2],\n",
              "       [6.1, 3. , 4.6, 1.4],\n",
              "       [5.8, 2.6, 4. , 1.2],\n",
              "       [5. , 2.3, 3.3, 1. ],\n",
              "       [5.6, 2.7, 4.2, 1.3],\n",
              "       [5.7, 3. , 4.2, 1.2],\n",
              "       [5.7, 2.9, 4.2, 1.3],\n",
              "       [6.2, 2.9, 4.3, 1.3],\n",
              "       [5.1, 2.5, 3. , 1.1],\n",
              "       [5.7, 2.8, 4.1, 1.3],\n",
              "       [6.3, 3.3, 6. , 2.5],\n",
              "       [5.8, 2.7, 5.1, 1.9],\n",
              "       [7.1, 3. , 5.9, 2.1],\n",
              "       [6.3, 2.9, 5.6, 1.8],\n",
              "       [6.5, 3. , 5.8, 2.2],\n",
              "       [7.6, 3. , 6.6, 2.1],\n",
              "       [4.9, 2.5, 4.5, 1.7],\n",
              "       [7.3, 2.9, 6.3, 1.8],\n",
              "       [6.7, 2.5, 5.8, 1.8],\n",
              "       [7.2, 3.6, 6.1, 2.5],\n",
              "       [6.5, 3.2, 5.1, 2. ],\n",
              "       [6.4, 2.7, 5.3, 1.9],\n",
              "       [6.8, 3. , 5.5, 2.1],\n",
              "       [5.7, 2.5, 5. , 2. ],\n",
              "       [5.8, 2.8, 5.1, 2.4],\n",
              "       [6.4, 3.2, 5.3, 2.3],\n",
              "       [6.5, 3. , 5.5, 1.8],\n",
              "       [7.7, 3.8, 6.7, 2.2],\n",
              "       [7.7, 2.6, 6.9, 2.3],\n",
              "       [6. , 2.2, 5. , 1.5],\n",
              "       [6.9, 3.2, 5.7, 2.3],\n",
              "       [5.6, 2.8, 4.9, 2. ],\n",
              "       [7.7, 2.8, 6.7, 2. ],\n",
              "       [6.3, 2.7, 4.9, 1.8],\n",
              "       [6.7, 3.3, 5.7, 2.1],\n",
              "       [7.2, 3.2, 6. , 1.8],\n",
              "       [6.2, 2.8, 4.8, 1.8],\n",
              "       [6.1, 3. , 4.9, 1.8],\n",
              "       [6.4, 2.8, 5.6, 2.1],\n",
              "       [7.2, 3. , 5.8, 1.6],\n",
              "       [7.4, 2.8, 6.1, 1.9],\n",
              "       [7.9, 3.8, 6.4, 2. ],\n",
              "       [6.4, 2.8, 5.6, 2.2],\n",
              "       [6.3, 2.8, 5.1, 1.5],\n",
              "       [6.1, 2.6, 5.6, 1.4],\n",
              "       [7.7, 3. , 6.1, 2.3],\n",
              "       [6.3, 3.4, 5.6, 2.4],\n",
              "       [6.4, 3.1, 5.5, 1.8],\n",
              "       [6. , 3. , 4.8, 1.8],\n",
              "       [6.9, 3.1, 5.4, 2.1],\n",
              "       [6.7, 3.1, 5.6, 2.4],\n",
              "       [6.9, 3.1, 5.1, 2.3],\n",
              "       [5.8, 2.7, 5.1, 1.9],\n",
              "       [6.8, 3.2, 5.9, 2.3],\n",
              "       [6.7, 3.3, 5.7, 2.5],\n",
              "       [6.7, 3. , 5.2, 2.3],\n",
              "       [6.3, 2.5, 5. , 1.9],\n",
              "       [6.5, 3. , 5.2, 2. ],\n",
              "       [6.2, 3.4, 5.4, 2.3],\n",
              "       [5.9, 3. , 5.1, 1.8]])"
            ]
          },
          "metadata": {},
          "execution_count": 5
        }
      ],
      "source": [
        "X = iris.data\n",
        "X"
      ]
    },
    {
      "cell_type": "code",
      "execution_count": 6,
      "id": "63161e2f",
      "metadata": {
        "colab": {
          "base_uri": "https://localhost:8080/"
        },
        "id": "63161e2f",
        "outputId": "ef1a48a1-6be6-4b81-ff92-3859f4a63c9e"
      },
      "outputs": [
        {
          "output_type": "execute_result",
          "data": {
            "text/plain": [
              "(150, 4)"
            ]
          },
          "metadata": {},
          "execution_count": 6
        }
      ],
      "source": [
        "X.shape"
      ]
    },
    {
      "cell_type": "code",
      "execution_count": 7,
      "id": "3cbc50f8",
      "metadata": {
        "id": "3cbc50f8"
      },
      "outputs": [],
      "source": [
        "x = X[:,[1,2,3]]\n",
        "y = X[:,[0]]"
      ]
    },
    {
      "cell_type": "code",
      "execution_count": 8,
      "id": "4b608dd6",
      "metadata": {
        "colab": {
          "base_uri": "https://localhost:8080/"
        },
        "id": "4b608dd6",
        "outputId": "efb74286-0146-4a4f-e4b8-5cd04632df22"
      },
      "outputs": [
        {
          "output_type": "execute_result",
          "data": {
            "text/plain": [
              "(150, 3)"
            ]
          },
          "metadata": {},
          "execution_count": 8
        }
      ],
      "source": [
        "x.shape"
      ]
    },
    {
      "cell_type": "code",
      "execution_count": 9,
      "id": "f70dbd56",
      "metadata": {
        "colab": {
          "base_uri": "https://localhost:8080/"
        },
        "id": "f70dbd56",
        "outputId": "fe99eae2-7dec-47c2-e361-1d5f3d869db5"
      },
      "outputs": [
        {
          "output_type": "execute_result",
          "data": {
            "text/plain": [
              "(150, 1)"
            ]
          },
          "metadata": {},
          "execution_count": 9
        }
      ],
      "source": [
        "y.shape"
      ]
    },
    {
      "cell_type": "markdown",
      "id": "824c3dd5",
      "metadata": {
        "id": "824c3dd5"
      },
      "source": [
        "#### Split Data into Training and Test Set"
      ]
    },
    {
      "cell_type": "code",
      "execution_count": 10,
      "id": "68c32a35",
      "metadata": {
        "id": "68c32a35"
      },
      "outputs": [],
      "source": [
        "from sklearn.model_selection import train_test_split"
      ]
    },
    {
      "cell_type": "code",
      "execution_count": 11,
      "id": "2e6710ec",
      "metadata": {
        "id": "2e6710ec"
      },
      "outputs": [],
      "source": [
        "X_train, X_test, y_train, y_test = train_test_split(x, y, test_size=0.3, shuffle=True, random_state=101)"
      ]
    },
    {
      "cell_type": "code",
      "execution_count": 12,
      "id": "9b381c0e",
      "metadata": {
        "colab": {
          "base_uri": "https://localhost:8080/"
        },
        "id": "9b381c0e",
        "outputId": "c16c2afb-9383-4f7a-bbf1-0fa57d37ffb1"
      },
      "outputs": [
        {
          "output_type": "stream",
          "name": "stdout",
          "text": [
            "\n",
            " Shape of Training data :  (105, 3)\n",
            "\n",
            " Shape of Test data :  (45, 3)\n"
          ]
        }
      ],
      "source": [
        "print('\\n Shape of Training data : ', X_train.shape)\n",
        "print('\\n Shape of Test data : ', X_test.shape)"
      ]
    },
    {
      "cell_type": "markdown",
      "id": "15ec20b9",
      "metadata": {
        "id": "15ec20b9"
      },
      "source": [
        "### Standardize the dataset"
      ]
    },
    {
      "cell_type": "code",
      "execution_count": 106,
      "id": "81af69ac",
      "metadata": {
        "id": "81af69ac"
      },
      "outputs": [],
      "source": [
        "from sklearn.preprocessing import StandardScaler\n",
        "\n",
        "sc = StandardScaler()\n",
        "sc.fit(X_train)\n",
        "X_train_std = sc.transform(X_train)\n",
        "X_test_std = sc.transform(X_test)"
      ]
    },
    {
      "cell_type": "markdown",
      "id": "4f777a42",
      "metadata": {
        "id": "4f777a42"
      },
      "source": [
        "#### Build the Multilayer Perceptron Model"
      ]
    },
    {
      "cell_type": "code",
      "execution_count": 107,
      "id": "aeb7a22d",
      "metadata": {
        "id": "aeb7a22d"
      },
      "outputs": [],
      "source": [
        "from keras.models import Sequential, Model\n",
        "from keras.layers import Dense"
      ]
    },
    {
      "cell_type": "code",
      "execution_count": 108,
      "id": "bb6349c1",
      "metadata": {
        "id": "bb6349c1"
      },
      "outputs": [],
      "source": [
        "##MODEL\n",
        "\n",
        "#Build a simple MLP model\n",
        "model = Sequential()\n",
        "model.add(Dense(10, input_dim=3, activation='sigmoid')) # first hidden layer with 5 neurons\n",
        "model.add(Dense(6, activation = 'sigmoid'))  #second hidden layer with 3 neurons\n",
        "model.add(Dense(1, activation = 'linear'))\n",
        "\n",
        "#compile model\n",
        "model.compile(optimizer = 'adam', loss = 'mse', metrics = 'mse')"
      ]
    },
    {
      "cell_type": "code",
      "execution_count": 109,
      "id": "eb0e2ea9",
      "metadata": {
        "colab": {
          "base_uri": "https://localhost:8080/"
        },
        "id": "eb0e2ea9",
        "outputId": "7a003127-2c72-4d92-d88c-683479fba7f1"
      },
      "outputs": [
        {
          "output_type": "stream",
          "name": "stdout",
          "text": [
            "Model: \"sequential_5\"\n",
            "_________________________________________________________________\n",
            " Layer (type)                Output Shape              Param #   \n",
            "=================================================================\n",
            " dense_19 (Dense)            (None, 10)                40        \n",
            "                                                                 \n",
            " dense_20 (Dense)            (None, 6)                 66        \n",
            "                                                                 \n",
            " dense_21 (Dense)            (None, 1)                 7         \n",
            "                                                                 \n",
            "=================================================================\n",
            "Total params: 113\n",
            "Trainable params: 113\n",
            "Non-trainable params: 0\n",
            "_________________________________________________________________\n"
          ]
        }
      ],
      "source": [
        "model.summary()\n"
      ]
    },
    {
      "cell_type": "code",
      "source": [
        "from keras.utils import plot_model"
      ],
      "metadata": {
        "id": "gf_bxbnE-qgu"
      },
      "id": "gf_bxbnE-qgu",
      "execution_count": 110,
      "outputs": []
    },
    {
      "cell_type": "code",
      "source": [
        "plot_model(model)"
      ],
      "metadata": {
        "colab": {
          "base_uri": "https://localhost:8080/",
          "height": 369
        },
        "id": "VtUcnR6o_on8",
        "outputId": "1af7902c-cba1-4969-df57-eaaddea3b7fa"
      },
      "id": "VtUcnR6o_on8",
      "execution_count": 111,
      "outputs": [
        {
          "output_type": "execute_result",
          "data": {
            "image/png": "[encoded data removed]",
            "text/plain": [
              "<IPython.core.display.Image object>"
            ]
          },
          "metadata": {},
          "execution_count": 111
        }
      ]
    },
    {
      "cell_type": "markdown",
      "source": [
        "Initial Weights and Biases"
      ],
      "metadata": {
        "id": "ZkY67If9AACu"
      },
      "id": "ZkY67If9AACu"
    },
    {
      "cell_type": "markdown",
      "source": [
        "Keras oficial documentation says....\n",
        "\n",
        "kernel_initializer=\"glorot_uniform\"\n",
        "\n",
        "bias_initializer=\"zeros\""
      ],
      "metadata": {
        "id": "ROE_Eg9FAFK6"
      },
      "id": "ROE_Eg9FAFK6"
    },
    {
      "cell_type": "code",
      "source": [
        "weights = model.get_weights()"
      ],
      "metadata": {
        "id": "rcHIhlDT_qnq"
      },
      "id": "rcHIhlDT_qnq",
      "execution_count": 112,
      "outputs": []
    },
    {
      "cell_type": "code",
      "source": [
        "weights\n",
        "#weights[0]"
      ],
      "metadata": {
        "colab": {
          "base_uri": "https://localhost:8080/"
        },
        "id": "_xE6r8gOAKsJ",
        "outputId": "8d8873e1-026e-4ab2-de2b-d24e5b0c30e6"
      },
      "id": "_xE6r8gOAKsJ",
      "execution_count": 113,
      "outputs": [
        {
          "output_type": "execute_result",
          "data": {
            "text/plain": [
              "[array([[ 0.3472247 ,  0.03389537,  0.06543422, -0.06072128, -0.6709971 ,\n",
              "         -0.1398086 ,  0.5287396 , -0.1140877 ,  0.0436337 , -0.19927701],\n",
              "        [ 0.48344445,  0.65921867, -0.57186425,  0.40150893, -0.46865973,\n",
              "          0.1910823 ,  0.0993638 , -0.21340969,  0.17739034, -0.2695476 ],\n",
              "        [-0.19392669, -0.33651993, -0.6096708 , -0.20897242, -0.21192065,\n",
              "         -0.21307084, -0.6634334 , -0.35580352, -0.4614425 ,  0.11028731]],\n",
              "       dtype=float32),\n",
              " array([0., 0., 0., 0., 0., 0., 0., 0., 0., 0.], dtype=float32),\n",
              " array([[ 0.55538625,  0.11104923,  0.5070401 , -0.25031516, -0.32444337,\n",
              "         -0.05920136],\n",
              "        [-0.58885944,  0.12498313,  0.14795929,  0.26783907, -0.31445763,\n",
              "          0.15106094],\n",
              "        [-0.37330827, -0.3778419 ,  0.35837936,  0.30449438, -0.31196246,\n",
              "         -0.5023175 ],\n",
              "        [-0.49514872,  0.60086626, -0.16818786, -0.31656355, -0.0888204 ,\n",
              "          0.16818142],\n",
              "        [-0.27403054, -0.37683827,  0.6046657 , -0.4520114 , -0.08501649,\n",
              "         -0.02224952],\n",
              "        [ 0.21324724,  0.17168254,  0.08603251,  0.00219876, -0.16852543,\n",
              "         -0.5778114 ],\n",
              "        [-0.2785735 ,  0.17586535, -0.4740517 ,  0.54457194,  0.30547518,\n",
              "          0.5433777 ],\n",
              "        [-0.51827615, -0.47725645,  0.2831384 , -0.46500814, -0.11597237,\n",
              "         -0.4942184 ],\n",
              "        [-0.3398142 , -0.29733858,  0.49451154,  0.5901367 , -0.13211116,\n",
              "          0.36561024],\n",
              "        [-0.546373  , -0.10203844,  0.43027395, -0.4409485 , -0.2558318 ,\n",
              "          0.3186931 ]], dtype=float32),\n",
              " array([0., 0., 0., 0., 0., 0.], dtype=float32),\n",
              " array([[-0.55787456],\n",
              "        [-0.49639058],\n",
              "        [ 0.79731286],\n",
              "        [ 0.20895314],\n",
              "        [-0.5724021 ],\n",
              "        [-0.00909662]], dtype=float32),\n",
              " array([0.], dtype=float32)]"
            ]
          },
          "metadata": {},
          "execution_count": 113
        }
      ]
    },
    {
      "cell_type": "code",
      "source": [
        "y.dtype"
      ],
      "metadata": {
        "colab": {
          "base_uri": "https://localhost:8080/"
        },
        "id": "WlMEsir7ANqp",
        "outputId": "e143418a-2356-47fa-af87-58c648f5aae8"
      },
      "id": "WlMEsir7ANqp",
      "execution_count": 114,
      "outputs": [
        {
          "output_type": "execute_result",
          "data": {
            "text/plain": [
              "dtype('float64')"
            ]
          },
          "metadata": {},
          "execution_count": 114
        }
      ]
    },
    {
      "cell_type": "markdown",
      "source": [
        "Train the Model"
      ],
      "metadata": {
        "id": "Uu2lYza7AeEg"
      },
      "id": "Uu2lYza7AeEg"
    },
    {
      "cell_type": "code",
      "source": [
        "X_train_std.shape"
      ],
      "metadata": {
        "colab": {
          "base_uri": "https://localhost:8080/"
        },
        "id": "8IKTA58uBTxx",
        "outputId": "424c187a-9885-4cfa-dec9-444d1005f9af"
      },
      "id": "8IKTA58uBTxx",
      "execution_count": 115,
      "outputs": [
        {
          "output_type": "execute_result",
          "data": {
            "text/plain": [
              "(105, 3)"
            ]
          },
          "metadata": {},
          "execution_count": 115
        }
      ]
    },
    {
      "cell_type": "code",
      "source": [
        "history = model.fit(X_train_std, y_train, epochs = 100, batch_size = 4, validation_data = (X_test_std, y_test))"
      ],
      "metadata": {
        "colab": {
          "base_uri": "https://localhost:8080/"
        },
        "id": "MnOkBXA9AYjh",
        "outputId": "ad65bc00-2d4e-4298-9b3b-a88fa9d5556f"
      },
      "id": "MnOkBXA9AYjh",
      "execution_count": 125,
      "outputs": [
        {
          "output_type": "stream",
          "name": "stdout",
          "text": [
            "Epoch 1/100\n",
            "27/27 [==============================] - 0s 6ms/step - loss: 1.3400 - mse: 1.3400 - val_loss: 1.2194 - val_mse: 1.2194\n",
            "Epoch 2/100\n",
            "27/27 [==============================] - 0s 5ms/step - loss: 1.2771 - mse: 1.2771 - val_loss: 1.1572 - val_mse: 1.1572\n",
            "Epoch 3/100\n",
            "27/27 [==============================] - 0s 5ms/step - loss: 1.2177 - mse: 1.2177 - val_loss: 1.1027 - val_mse: 1.1027\n",
            "Epoch 4/100\n",
            "27/27 [==============================] - 0s 3ms/step - loss: 1.1659 - mse: 1.1659 - val_loss: 1.0508 - val_mse: 1.0508\n",
            "Epoch 5/100\n",
            "27/27 [==============================] - 0s 3ms/step - loss: 1.1153 - mse: 1.1153 - val_loss: 1.0055 - val_mse: 1.0055\n",
            "Epoch 6/100\n",
            "27/27 [==============================] - 0s 3ms/step - loss: 1.0711 - mse: 1.0711 - val_loss: 0.9636 - val_mse: 0.9636\n",
            "Epoch 7/100\n",
            "27/27 [==============================] - 0s 3ms/step - loss: 1.0306 - mse: 1.0306 - val_loss: 0.9247 - val_mse: 0.9247\n",
            "Epoch 8/100\n",
            "27/27 [==============================] - 0s 2ms/step - loss: 0.9936 - mse: 0.9936 - val_loss: 0.8871 - val_mse: 0.8871\n",
            "Epoch 9/100\n",
            "27/27 [==============================] - 0s 3ms/step - loss: 0.9582 - mse: 0.9582 - val_loss: 0.8569 - val_mse: 0.8569\n",
            "Epoch 10/100\n",
            "27/27 [==============================] - 0s 3ms/step - loss: 0.9288 - mse: 0.9288 - val_loss: 0.8275 - val_mse: 0.8275\n",
            "Epoch 11/100\n",
            "27/27 [==============================] - 0s 3ms/step - loss: 0.9000 - mse: 0.9000 - val_loss: 0.8016 - val_mse: 0.8016\n",
            "Epoch 12/100\n",
            "27/27 [==============================] - 0s 3ms/step - loss: 0.8749 - mse: 0.8749 - val_loss: 0.7781 - val_mse: 0.7781\n",
            "Epoch 13/100\n",
            "27/27 [==============================] - 0s 2ms/step - loss: 0.8518 - mse: 0.8518 - val_loss: 0.7555 - val_mse: 0.7555\n",
            "Epoch 14/100\n",
            "27/27 [==============================] - 0s 2ms/step - loss: 0.8316 - mse: 0.8316 - val_loss: 0.7366 - val_mse: 0.7366\n",
            "Epoch 15/100\n",
            "27/27 [==============================] - 0s 2ms/step - loss: 0.8131 - mse: 0.8131 - val_loss: 0.7184 - val_mse: 0.7184\n",
            "Epoch 16/100\n",
            "27/27 [==============================] - 0s 2ms/step - loss: 0.7957 - mse: 0.7957 - val_loss: 0.7027 - val_mse: 0.7027\n",
            "Epoch 17/100\n",
            "27/27 [==============================] - 0s 2ms/step - loss: 0.7810 - mse: 0.7810 - val_loss: 0.6877 - val_mse: 0.6877\n",
            "Epoch 18/100\n",
            "27/27 [==============================] - 0s 2ms/step - loss: 0.7657 - mse: 0.7657 - val_loss: 0.6754 - val_mse: 0.6754\n",
            "Epoch 19/100\n",
            "27/27 [==============================] - 0s 3ms/step - loss: 0.7518 - mse: 0.7518 - val_loss: 0.6616 - val_mse: 0.6616\n",
            "Epoch 20/100\n",
            "27/27 [==============================] - 0s 3ms/step - loss: 0.7399 - mse: 0.7399 - val_loss: 0.6495 - val_mse: 0.6495\n",
            "Epoch 21/100\n",
            "27/27 [==============================] - 0s 3ms/step - loss: 0.7278 - mse: 0.7278 - val_loss: 0.6390 - val_mse: 0.6390\n",
            "Epoch 22/100\n",
            "27/27 [==============================] - 0s 3ms/step - loss: 0.7170 - mse: 0.7170 - val_loss: 0.6301 - val_mse: 0.6301\n",
            "Epoch 23/100\n",
            "27/27 [==============================] - 0s 2ms/step - loss: 0.7068 - mse: 0.7068 - val_loss: 0.6210 - val_mse: 0.6210\n",
            "Epoch 24/100\n",
            "27/27 [==============================] - 0s 2ms/step - loss: 0.6982 - mse: 0.6982 - val_loss: 0.6110 - val_mse: 0.6110\n",
            "Epoch 25/100\n",
            "27/27 [==============================] - 0s 3ms/step - loss: 0.6874 - mse: 0.6874 - val_loss: 0.6028 - val_mse: 0.6028\n",
            "Epoch 26/100\n",
            "27/27 [==============================] - 0s 3ms/step - loss: 0.6783 - mse: 0.6783 - val_loss: 0.5948 - val_mse: 0.5948\n",
            "Epoch 27/100\n",
            "27/27 [==============================] - 0s 3ms/step - loss: 0.6695 - mse: 0.6695 - val_loss: 0.5863 - val_mse: 0.5863\n",
            "Epoch 28/100\n",
            "27/27 [==============================] - 0s 2ms/step - loss: 0.6596 - mse: 0.6596 - val_loss: 0.5776 - val_mse: 0.5776\n",
            "Epoch 29/100\n",
            "27/27 [==============================] - 0s 3ms/step - loss: 0.6501 - mse: 0.6501 - val_loss: 0.5692 - val_mse: 0.5692\n",
            "Epoch 30/100\n",
            "27/27 [==============================] - 0s 3ms/step - loss: 0.6402 - mse: 0.6402 - val_loss: 0.5602 - val_mse: 0.5602\n",
            "Epoch 31/100\n",
            "27/27 [==============================] - 0s 3ms/step - loss: 0.6296 - mse: 0.6296 - val_loss: 0.5511 - val_mse: 0.5511\n",
            "Epoch 32/100\n",
            "27/27 [==============================] - 0s 2ms/step - loss: 0.6180 - mse: 0.6180 - val_loss: 0.5401 - val_mse: 0.5401\n",
            "Epoch 33/100\n",
            "27/27 [==============================] - 0s 3ms/step - loss: 0.6056 - mse: 0.6056 - val_loss: 0.5298 - val_mse: 0.5298\n",
            "Epoch 34/100\n",
            "27/27 [==============================] - 0s 3ms/step - loss: 0.5929 - mse: 0.5929 - val_loss: 0.5193 - val_mse: 0.5193\n",
            "Epoch 35/100\n",
            "27/27 [==============================] - 0s 3ms/step - loss: 0.5800 - mse: 0.5800 - val_loss: 0.5068 - val_mse: 0.5068\n",
            "Epoch 36/100\n",
            "27/27 [==============================] - 0s 2ms/step - loss: 0.5647 - mse: 0.5647 - val_loss: 0.4946 - val_mse: 0.4946\n",
            "Epoch 37/100\n",
            "27/27 [==============================] - 0s 3ms/step - loss: 0.5493 - mse: 0.5493 - val_loss: 0.4825 - val_mse: 0.4825\n",
            "Epoch 38/100\n",
            "27/27 [==============================] - 0s 3ms/step - loss: 0.5345 - mse: 0.5345 - val_loss: 0.4702 - val_mse: 0.4702\n",
            "Epoch 39/100\n",
            "27/27 [==============================] - 0s 3ms/step - loss: 0.5194 - mse: 0.5194 - val_loss: 0.4576 - val_mse: 0.4576\n",
            "Epoch 40/100\n",
            "27/27 [==============================] - 0s 2ms/step - loss: 0.5036 - mse: 0.5036 - val_loss: 0.4457 - val_mse: 0.4457\n",
            "Epoch 41/100\n",
            "27/27 [==============================] - 0s 3ms/step - loss: 0.4891 - mse: 0.4891 - val_loss: 0.4337 - val_mse: 0.4337\n",
            "Epoch 42/100\n",
            "27/27 [==============================] - 0s 2ms/step - loss: 0.4750 - mse: 0.4750 - val_loss: 0.4221 - val_mse: 0.4221\n",
            "Epoch 43/100\n",
            "27/27 [==============================] - 0s 2ms/step - loss: 0.4605 - mse: 0.4605 - val_loss: 0.4116 - val_mse: 0.4116\n",
            "Epoch 44/100\n",
            "27/27 [==============================] - 0s 2ms/step - loss: 0.4465 - mse: 0.4465 - val_loss: 0.4009 - val_mse: 0.4009\n",
            "Epoch 45/100\n",
            "27/27 [==============================] - 0s 2ms/step - loss: 0.4335 - mse: 0.4335 - val_loss: 0.3918 - val_mse: 0.3918\n",
            "Epoch 46/100\n",
            "27/27 [==============================] - 0s 3ms/step - loss: 0.4217 - mse: 0.4217 - val_loss: 0.3812 - val_mse: 0.3812\n",
            "Epoch 47/100\n",
            "27/27 [==============================] - 0s 2ms/step - loss: 0.4102 - mse: 0.4102 - val_loss: 0.3733 - val_mse: 0.3733\n",
            "Epoch 48/100\n",
            "27/27 [==============================] - 0s 3ms/step - loss: 0.3998 - mse: 0.3998 - val_loss: 0.3649 - val_mse: 0.3649\n",
            "Epoch 49/100\n",
            "27/27 [==============================] - 0s 3ms/step - loss: 0.3900 - mse: 0.3900 - val_loss: 0.3575 - val_mse: 0.3575\n",
            "Epoch 50/100\n",
            "27/27 [==============================] - 0s 3ms/step - loss: 0.3810 - mse: 0.3810 - val_loss: 0.3502 - val_mse: 0.3502\n",
            "Epoch 51/100\n",
            "27/27 [==============================] - 0s 3ms/step - loss: 0.3726 - mse: 0.3726 - val_loss: 0.3433 - val_mse: 0.3433\n",
            "Epoch 52/100\n",
            "27/27 [==============================] - 0s 3ms/step - loss: 0.3638 - mse: 0.3638 - val_loss: 0.3369 - val_mse: 0.3369\n",
            "Epoch 53/100\n",
            "27/27 [==============================] - 0s 3ms/step - loss: 0.3558 - mse: 0.3558 - val_loss: 0.3308 - val_mse: 0.3308\n",
            "Epoch 54/100\n",
            "27/27 [==============================] - 0s 2ms/step - loss: 0.3488 - mse: 0.3488 - val_loss: 0.3252 - val_mse: 0.3252\n",
            "Epoch 55/100\n",
            "27/27 [==============================] - 0s 2ms/step - loss: 0.3420 - mse: 0.3420 - val_loss: 0.3198 - val_mse: 0.3198\n",
            "Epoch 56/100\n",
            "27/27 [==============================] - 0s 2ms/step - loss: 0.3356 - mse: 0.3356 - val_loss: 0.3151 - val_mse: 0.3151\n",
            "Epoch 57/100\n",
            "27/27 [==============================] - 0s 3ms/step - loss: 0.3297 - mse: 0.3297 - val_loss: 0.3099 - val_mse: 0.3099\n",
            "Epoch 58/100\n",
            "27/27 [==============================] - 0s 2ms/step - loss: 0.3240 - mse: 0.3240 - val_loss: 0.3054 - val_mse: 0.3054\n",
            "Epoch 59/100\n",
            "27/27 [==============================] - 0s 3ms/step - loss: 0.3186 - mse: 0.3186 - val_loss: 0.3006 - val_mse: 0.3006\n",
            "Epoch 60/100\n",
            "27/27 [==============================] - 0s 2ms/step - loss: 0.3133 - mse: 0.3133 - val_loss: 0.2964 - val_mse: 0.2964\n",
            "Epoch 61/100\n",
            "27/27 [==============================] - 0s 3ms/step - loss: 0.3079 - mse: 0.3079 - val_loss: 0.2924 - val_mse: 0.2924\n",
            "Epoch 62/100\n",
            "27/27 [==============================] - 0s 2ms/step - loss: 0.3030 - mse: 0.3030 - val_loss: 0.2883 - val_mse: 0.2883\n",
            "Epoch 63/100\n",
            "27/27 [==============================] - 0s 3ms/step - loss: 0.2987 - mse: 0.2987 - val_loss: 0.2843 - val_mse: 0.2843\n",
            "Epoch 64/100\n",
            "27/27 [==============================] - 0s 3ms/step - loss: 0.2939 - mse: 0.2939 - val_loss: 0.2807 - val_mse: 0.2807\n",
            "Epoch 65/100\n",
            "27/27 [==============================] - 0s 3ms/step - loss: 0.2896 - mse: 0.2896 - val_loss: 0.2774 - val_mse: 0.2774\n",
            "Epoch 66/100\n",
            "27/27 [==============================] - 0s 3ms/step - loss: 0.2858 - mse: 0.2858 - val_loss: 0.2738 - val_mse: 0.2738\n",
            "Epoch 67/100\n",
            "27/27 [==============================] - 0s 3ms/step - loss: 0.2816 - mse: 0.2816 - val_loss: 0.2710 - val_mse: 0.2710\n",
            "Epoch 68/100\n",
            "27/27 [==============================] - 0s 2ms/step - loss: 0.2777 - mse: 0.2777 - val_loss: 0.2668 - val_mse: 0.2668\n",
            "Epoch 69/100\n",
            "27/27 [==============================] - 0s 2ms/step - loss: 0.2740 - mse: 0.2740 - val_loss: 0.2637 - val_mse: 0.2637\n",
            "Epoch 70/100\n",
            "27/27 [==============================] - 0s 2ms/step - loss: 0.2702 - mse: 0.2702 - val_loss: 0.2602 - val_mse: 0.2602\n",
            "Epoch 71/100\n",
            "27/27 [==============================] - 0s 2ms/step - loss: 0.2664 - mse: 0.2664 - val_loss: 0.2573 - val_mse: 0.2573\n",
            "Epoch 72/100\n",
            "27/27 [==============================] - 0s 3ms/step - loss: 0.2626 - mse: 0.2626 - val_loss: 0.2545 - val_mse: 0.2545\n",
            "Epoch 73/100\n",
            "27/27 [==============================] - 0s 2ms/step - loss: 0.2592 - mse: 0.2592 - val_loss: 0.2513 - val_mse: 0.2513\n",
            "Epoch 74/100\n",
            "27/27 [==============================] - 0s 3ms/step - loss: 0.2556 - mse: 0.2556 - val_loss: 0.2478 - val_mse: 0.2478\n",
            "Epoch 75/100\n",
            "27/27 [==============================] - 0s 3ms/step - loss: 0.2525 - mse: 0.2525 - val_loss: 0.2452 - val_mse: 0.2452\n",
            "Epoch 76/100\n",
            "27/27 [==============================] - 0s 2ms/step - loss: 0.2491 - mse: 0.2491 - val_loss: 0.2421 - val_mse: 0.2421\n",
            "Epoch 77/100\n",
            "27/27 [==============================] - 0s 3ms/step - loss: 0.2460 - mse: 0.2460 - val_loss: 0.2393 - val_mse: 0.2393\n",
            "Epoch 78/100\n",
            "27/27 [==============================] - 0s 3ms/step - loss: 0.2433 - mse: 0.2433 - val_loss: 0.2370 - val_mse: 0.2370\n",
            "Epoch 79/100\n",
            "27/27 [==============================] - 0s 3ms/step - loss: 0.2404 - mse: 0.2404 - val_loss: 0.2339 - val_mse: 0.2339\n",
            "Epoch 80/100\n",
            "27/27 [==============================] - 0s 2ms/step - loss: 0.2378 - mse: 0.2378 - val_loss: 0.2317 - val_mse: 0.2317\n",
            "Epoch 81/100\n",
            "27/27 [==============================] - 0s 2ms/step - loss: 0.2353 - mse: 0.2353 - val_loss: 0.2287 - val_mse: 0.2287\n",
            "Epoch 82/100\n",
            "27/27 [==============================] - 0s 2ms/step - loss: 0.2326 - mse: 0.2326 - val_loss: 0.2262 - val_mse: 0.2262\n",
            "Epoch 83/100\n",
            "27/27 [==============================] - 0s 2ms/step - loss: 0.2306 - mse: 0.2306 - val_loss: 0.2241 - val_mse: 0.2241\n",
            "Epoch 84/100\n",
            "27/27 [==============================] - 0s 2ms/step - loss: 0.2281 - mse: 0.2281 - val_loss: 0.2212 - val_mse: 0.2212\n",
            "Epoch 85/100\n",
            "27/27 [==============================] - 0s 3ms/step - loss: 0.2263 - mse: 0.2263 - val_loss: 0.2183 - val_mse: 0.2183\n",
            "Epoch 86/100\n",
            "27/27 [==============================] - 0s 3ms/step - loss: 0.2242 - mse: 0.2242 - val_loss: 0.2166 - val_mse: 0.2166\n",
            "Epoch 87/100\n",
            "27/27 [==============================] - 0s 3ms/step - loss: 0.2224 - mse: 0.2224 - val_loss: 0.2151 - val_mse: 0.2151\n",
            "Epoch 88/100\n",
            "27/27 [==============================] - 0s 3ms/step - loss: 0.2206 - mse: 0.2206 - val_loss: 0.2134 - val_mse: 0.2134\n",
            "Epoch 89/100\n",
            "27/27 [==============================] - 0s 3ms/step - loss: 0.2186 - mse: 0.2186 - val_loss: 0.2117 - val_mse: 0.2117\n",
            "Epoch 90/100\n",
            "27/27 [==============================] - 0s 3ms/step - loss: 0.2172 - mse: 0.2172 - val_loss: 0.2103 - val_mse: 0.2103\n",
            "Epoch 91/100\n",
            "27/27 [==============================] - 0s 3ms/step - loss: 0.2158 - mse: 0.2158 - val_loss: 0.2078 - val_mse: 0.2078\n",
            "Epoch 92/100\n",
            "27/27 [==============================] - 0s 3ms/step - loss: 0.2140 - mse: 0.2140 - val_loss: 0.2064 - val_mse: 0.2064\n",
            "Epoch 93/100\n",
            "27/27 [==============================] - 0s 4ms/step - loss: 0.2128 - mse: 0.2128 - val_loss: 0.2060 - val_mse: 0.2060\n",
            "Epoch 94/100\n",
            "27/27 [==============================] - 0s 3ms/step - loss: 0.2116 - mse: 0.2116 - val_loss: 0.2024 - val_mse: 0.2024\n",
            "Epoch 95/100\n",
            "27/27 [==============================] - 0s 3ms/step - loss: 0.2106 - mse: 0.2106 - val_loss: 0.2023 - val_mse: 0.2023\n",
            "Epoch 96/100\n",
            "27/27 [==============================] - 0s 3ms/step - loss: 0.2090 - mse: 0.2090 - val_loss: 0.1998 - val_mse: 0.1998\n",
            "Epoch 97/100\n",
            "27/27 [==============================] - 0s 3ms/step - loss: 0.2077 - mse: 0.2077 - val_loss: 0.1991 - val_mse: 0.1991\n",
            "Epoch 98/100\n",
            "27/27 [==============================] - 0s 3ms/step - loss: 0.2065 - mse: 0.2065 - val_loss: 0.1980 - val_mse: 0.1980\n",
            "Epoch 99/100\n",
            "27/27 [==============================] - 0s 4ms/step - loss: 0.2057 - mse: 0.2057 - val_loss: 0.1975 - val_mse: 0.1975\n",
            "Epoch 100/100\n",
            "27/27 [==============================] - 0s 3ms/step - loss: 0.2046 - mse: 0.2046 - val_loss: 0.1965 - val_mse: 0.1965\n"
          ]
        }
      ]
    },
    {
      "cell_type": "markdown",
      "source": [
        "Post Training-what are the weights and biases"
      ],
      "metadata": {
        "id": "5CdU2xk_BrpL"
      },
      "id": "5CdU2xk_BrpL"
    },
    {
      "cell_type": "code",
      "source": [
        "weights = model.get_weights()"
      ],
      "metadata": {
        "id": "JsNC6IfqAbkq"
      },
      "id": "JsNC6IfqAbkq",
      "execution_count": 126,
      "outputs": []
    },
    {
      "cell_type": "code",
      "source": [
        "weights[0]"
      ],
      "metadata": {
        "colab": {
          "base_uri": "https://localhost:8080/"
        },
        "id": "EoHfNYVnBxaZ",
        "outputId": "2c6a3f62-db67-42c6-8556-9a8c83b7fa94"
      },
      "id": "EoHfNYVnBxaZ",
      "execution_count": 127,
      "outputs": [
        {
          "output_type": "execute_result",
          "data": {
            "text/plain": [
              "array([[ 0.81012815,  0.5117789 ,  0.28876898,  0.61638623, -0.3097839 ,\n",
              "         0.40294018,  0.8037389 ,  0.14075182,  0.48594072,  0.31124616],\n",
              "       [ 1.3966448 ,  1.5100468 ,  0.47458097,  1.537999  ,  0.55396944,\n",
              "         1.360727  ,  1.3951324 ,  0.5960019 ,  1.0802335 ,  0.6417471 ],\n",
              "       [ 0.6920136 ,  0.4798661 ,  0.4188881 ,  0.8789385 ,  0.785461  ,\n",
              "         0.93452567,  0.57834846,  0.44721097,  0.4186518 ,  0.9895074 ]],\n",
              "      dtype=float32)"
            ]
          },
          "metadata": {},
          "execution_count": 127
        }
      ]
    },
    {
      "cell_type": "markdown",
      "source": [
        "Plot Loss/Accuracy Curve for Training and Validation Data"
      ],
      "metadata": {
        "id": "IkC3AIW3B4uf"
      },
      "id": "IkC3AIW3B4uf"
    },
    {
      "cell_type": "code",
      "source": [
        "from keras.utils import plot_model\n",
        "import matplotlib.pyplot as plt"
      ],
      "metadata": {
        "id": "OQ-aUNrKBy9C"
      },
      "id": "OQ-aUNrKBy9C",
      "execution_count": 128,
      "outputs": []
    },
    {
      "cell_type": "code",
      "source": [
        "# Plot Loss Profile of the model on Training Data\n",
        "plt.figure(figsize=(12,10))\n",
        "plt.subplot(211)\n",
        "plt.title('Loss-Accuracy on Training Data')\n",
        "plt.plot(history.history['loss'], label='loss')\n",
        "plt.legend()"
      ],
      "metadata": {
        "colab": {
          "base_uri": "https://localhost:8080/",
          "height": 328
        },
        "id": "tpMb8Xe3B6m4",
        "outputId": "528507de-d6e9-40e5-e625-d14e3cd75533"
      },
      "id": "tpMb8Xe3B6m4",
      "execution_count": 129,
      "outputs": [
        {
          "output_type": "execute_result",
          "data": {
            "text/plain": [
              "<matplotlib.legend.Legend at 0x7efe2c0fb160>"
            ]
          },
          "metadata": {},
          "execution_count": 129
        },
        {
          "output_type": "display_data",
          "data": {
            "text/plain": [
              "<Figure size 864x720 with 1 Axes>"
            ],
            "image/png": "[encoded data removed]"
          },
          "metadata": {
            "needs_background": "light"
          }
        }
      ]
    },
    {
      "cell_type": "markdown",
      "source": [
        "Test/Make Predictions"
      ],
      "metadata": {
        "id": "iyZv9JGpCF--"
      },
      "id": "iyZv9JGpCF--"
    },
    {
      "cell_type": "code",
      "source": [
        "pred = model.predict(X_test_std)\n",
        "print(np.round(pred.ravel(),2))\n",
        "print()\n",
        "print(y_test)"
      ],
      "metadata": {
        "colab": {
          "base_uri": "https://localhost:8080/"
        },
        "id": "jklVHQbgB-oQ",
        "outputId": "a5b1a454-5639-4f18-957c-78a4a4beebb4"
      },
      "id": "jklVHQbgB-oQ",
      "execution_count": 130,
      "outputs": [
        {
          "output_type": "stream",
          "name": "stdout",
          "text": [
            "2/2 [==============================] - 0s 5ms/step\n",
            "[5.63 5.42 5.32 6.41 6.36 6.33 5.97 5.77 6.31 4.65 6.41 5.53 5.07 6.43\n",
            " 6.38 6.21 6.21 6.19 4.74 6.33 5.67 5.21 6.07 6.31 6.21 6.04 5.33 6.4\n",
            " 4.72 4.4  6.43 5.92 6.41 5.97 6.42 6.21 6.35 6.27 6.1  6.44 5.33 4.9\n",
            " 4.85 6.38 6.31]\n",
            "\n",
            "[[5.5]\n",
            " [5.4]\n",
            " [5. ]\n",
            " [7.2]\n",
            " [7. ]\n",
            " [6.3]\n",
            " [6.2]\n",
            " [5.5]\n",
            " [6.3]\n",
            " [4.9]\n",
            " [6.5]\n",
            " [5.2]\n",
            " [5.4]\n",
            " [7.7]\n",
            " [6.1]\n",
            " [6.4]\n",
            " [5.6]\n",
            " [5.7]\n",
            " [4.4]\n",
            " [6.1]\n",
            " [5.5]\n",
            " [5.3]\n",
            " [5.5]\n",
            " [6.7]\n",
            " [6.2]\n",
            " [5.6]\n",
            " [5. ]\n",
            " [5.8]\n",
            " [5. ]\n",
            " [4.5]\n",
            " [6.5]\n",
            " [5.5]\n",
            " [6.5]\n",
            " [5.8]\n",
            " [6.8]\n",
            " [5.7]\n",
            " [6.7]\n",
            " [5.9]\n",
            " [5.6]\n",
            " [7.7]\n",
            " [5.1]\n",
            " [4.6]\n",
            " [4.7]\n",
            " [6.7]\n",
            " [5.6]]\n"
          ]
        }
      ]
    },
    {
      "cell_type": "markdown",
      "source": [
        "Regression Metrics"
      ],
      "metadata": {
        "id": "4PFoRTh9CPdJ"
      },
      "id": "4PFoRTh9CPdJ"
    },
    {
      "cell_type": "code",
      "source": [
        "from sklearn.metrics import mean_squared_error, r2_score"
      ],
      "metadata": {
        "id": "sDsyC9wdCJH-"
      },
      "id": "sDsyC9wdCJH-",
      "execution_count": 131,
      "outputs": []
    },
    {
      "cell_type": "code",
      "source": [
        "mse = mean_squared_error(y_test, pred) \n",
        "print(\" MSE = \", mse)"
      ],
      "metadata": {
        "colab": {
          "base_uri": "https://localhost:8080/"
        },
        "id": "65zSoo9XCSAA",
        "outputId": "d70f0428-19e6-47b3-ed3a-ecdb0ba2c176"
      },
      "id": "65zSoo9XCSAA",
      "execution_count": 132,
      "outputs": [
        {
          "output_type": "stream",
          "name": "stdout",
          "text": [
            " MSE =  0.19651503246596128\n"
          ]
        }
      ]
    },
    {
      "cell_type": "code",
      "source": [
        "r2 = r2_score(y_test, pred) \n",
        "print(\" R2 = \", r2)"
      ],
      "metadata": {
        "colab": {
          "base_uri": "https://localhost:8080/"
        },
        "id": "DP9ivQ_7CUoW",
        "outputId": "09633ed2-7653-484d-f49b-43aa5e3a14bf"
      },
      "id": "DP9ivQ_7CUoW",
      "execution_count": 133,
      "outputs": [
        {
          "output_type": "stream",
          "name": "stdout",
          "text": [
            " R2 =  0.6829240974442476\n"
          ]
        }
      ]
    },
    {
      "cell_type": "markdown",
      "source": [
        "Evaluate the Model on the Test Set"
      ],
      "metadata": {
        "id": "wazKyQMiCdIm"
      },
      "id": "wazKyQMiCdIm"
    },
    {
      "cell_type": "code",
      "source": [
        "results = model.evaluate(X_test_std, y_test)\n",
        "\n",
        "print('Final test set Loss: {:4f}'.format(results[0]))\n",
        "print('Final test set MSE: {:4f}'.format(results[1]))"
      ],
      "metadata": {
        "colab": {
          "base_uri": "https://localhost:8080/"
        },
        "id": "kTyW7CZ0CWqv",
        "outputId": "922dd5a0-af51-4d06-9361-06a6d92a9fd7"
      },
      "id": "kTyW7CZ0CWqv",
      "execution_count": 134,
      "outputs": [
        {
          "output_type": "stream",
          "name": "stdout",
          "text": [
            "2/2 [==============================] - 0s 6ms/step - loss: 0.1965 - mse: 0.1965\n",
            "Final test set Loss: 0.196515\n",
            "Final test set MSE: 0.196515\n"
          ]
        }
      ]
    },
    {
      "cell_type": "markdown",
      "source": [
        "Verify the Output with an individual Sample"
      ],
      "metadata": {
        "id": "zq8iZDJ7Cj4I"
      },
      "id": "zq8iZDJ7Cj4I"
    },
    {
      "cell_type": "code",
      "source": [
        "idx = 11 # Index of a data sample present in the Test set\n",
        "\n",
        "indvidual_test_sample = X_test_std[idx,:].reshape(1, 3)\n",
        "\n",
        "print('\\n Input sample Original : ' , X_test[idx,:].reshape(1, 3) )\n",
        "print('\\n Input sample Standardize : ' , indvidual_test_sample )"
      ],
      "metadata": {
        "colab": {
          "base_uri": "https://localhost:8080/"
        },
        "id": "mzwSkqDpCgYT",
        "outputId": "5c9aad24-525d-48cb-f7e0-b1337933cbf1"
      },
      "id": "mzwSkqDpCgYT",
      "execution_count": 135,
      "outputs": [
        {
          "output_type": "stream",
          "name": "stdout",
          "text": [
            "\n",
            " Input sample Original :  [[4.1 1.5 0.1]]\n",
            "\n",
            " Input sample Standardize :  [[ 2.38816637 -1.24399423 -1.3813581 ]]\n"
          ]
        }
      ]
    },
    {
      "cell_type": "code",
      "source": [
        "pred = model.predict(indvidual_test_sample)\n",
        "\n",
        "print('\\n Predicted value by the model : ', pred)\n",
        "\n",
        "print('\\n True/Actual Value : ', y_test[idx])"
      ],
      "metadata": {
        "colab": {
          "base_uri": "https://localhost:8080/"
        },
        "id": "W9_jB6FWCoGV",
        "outputId": "e3bee958-74b9-431f-cd9f-5d926cdff538"
      },
      "id": "W9_jB6FWCoGV",
      "execution_count": 136,
      "outputs": [
        {
          "output_type": "stream",
          "name": "stdout",
          "text": [
            "1/1 [==============================] - 0s 19ms/step\n",
            "\n",
            " Predicted value by the model :  [[5.52671]]\n",
            "\n",
            " True/Actual Value :  [5.2]\n"
          ]
        }
      ]
    },
    {
      "cell_type": "code",
      "source": [],
      "metadata": {
        "id": "AJKmzHJIDB29"
      },
      "id": "AJKmzHJIDB29",
      "execution_count": 136,
      "outputs": []
    }
  ],
  "metadata": {
    "kernelspec": {
      "display_name": "Python 3 (ipykernel)",
      "language": "python",
      "name": "python3"
    },
    "language_info": {
      "codemirror_mode": {
        "name": "ipython",
        "version": 3
      },
      "file_extension": ".py",
      "mimetype": "text/x-python",
      "name": "python",
      "nbconvert_exporter": "python",
      "pygments_lexer": "ipython3",
      "version": "3.7.3"
    },
    "colab": {
      "provenance": []
    }
  },
  "nbformat": 4,
  "nbformat_minor": 5
}